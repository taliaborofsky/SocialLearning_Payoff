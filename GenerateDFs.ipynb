{
 "cells": [
  {
   "cell_type": "markdown",
   "metadata": {},
   "source": [
    "## Supporting Information.\n",
    "Borofsky, T. and Feldman, M. 2020. Static environments with limited resources select for multiple foraging strategies rather than conformity in social learners.\n",
    "# Appendix S2: Solving for Initial Equilibria"
   ]
  },
  {
   "cell_type": "code",
   "execution_count": 1,
   "metadata": {
    "tags": []
   },
   "outputs": [],
   "source": [
    "#from PIL import Image\n",
    "#import sys\n",
    "#sys.path.append('/usr/local/lib/python3.7/site-packages')\n",
    "#import os\n",
    "import numpy as np\n",
    "import importlib\n",
    "from numpy import linalg\n",
    "import helperfuns\n",
    "from helperfuns import *\n",
    "import DatFrameFuns\n",
    "from DatFrameFuns import *\n",
    "import scipy.stats as scs\n",
    "import matplotlib as mpl\n",
    "import matplotlib.pyplot as plt\n",
    "#importlib.reload(helperfuns)\n",
    "import pandas as pd\n",
    "#import sympy as sp\n",
    "#from sympy import *\n",
    "#from sympy.solvers import solve\n",
    "#np.set_printoptions(precision=3, suppress = True)\n",
    "#import seaborn as sns\n",
    "# next two libraries are used to flatten list of lists\n",
    "import functools\n",
    "import operator\n",
    "# for formatting tick labels\n",
    "#from matplotlib.ticker import FormatStrFormatter\n",
    "\n",
    "#for parallelizing:\n",
    "import multiprocessing as mp\n",
    "from pathos.multiprocessing import ProcessingPool as Pool\n",
    "\n",
    "\n"
   ]
  },
  {
   "cell_type": "markdown",
   "metadata": {},
   "source": [
    "## First we set up a parameter mesh, as described in Section 5.1"
   ]
  },
  {
   "cell_type": "code",
   "execution_count": 2,
   "metadata": {
    "tags": []
   },
   "outputs": [],
   "source": [
    "\n",
    "svals = np.sort(np.arange(0,4.5,0.5))\n",
    "muvals = np.array([-2, -1, -0.5, -0, 0, 0.5,1,2])\n",
    "betavals = np.arange(0,1.25,0.25)\n",
    "df = get_param_grid(svals, muvals, betavals)"
   ]
  },
  {
   "cell_type": "markdown",
   "metadata": {},
   "source": [
    "## We use parallelization to to greatly speed up the dataframe generation. "
   ]
  },
  {
   "cell_type": "code",
   "execution_count": 3,
   "metadata": {
    "tags": []
   },
   "outputs": [
    {
     "ename": "AttributeError",
     "evalue": "'str' object has no attribute 'u1init'",
     "output_type": "error",
     "traceback": [
      "\u001b[0;31m---------------------------------------------------------------------------\u001b[0m",
      "\u001b[0;31mRemoteTraceback\u001b[0m                           Traceback (most recent call last)",
      "\u001b[0;31mRemoteTraceback\u001b[0m: \n\"\"\"\nTraceback (most recent call last):\n  File \"/usr/local/lib/python3.9/site-packages/multiprocess/pool.py\", line 125, in worker\n    result = (True, func(*args, **kwds))\n  File \"/usr/local/lib/python3.9/site-packages/multiprocess/pool.py\", line 48, in mapstar\n    return list(map(*args))\n  File \"/usr/local/lib/python3.9/site-packages/pathos/helpers/mp_helper.py\", line 15, in <lambda>\n    func = lambda args: f(*args)\n  File \"/Users/taliaborofsky/Documents/Stanford/Research/Feldman/Ecology_of_Learning/Learning Strategies/Simulations/DatFrameFuns.py\", line 59, in get_1side_df\n    result = GetXsteps(df, tsteps = tsteps)\n  File \"/Users/taliaborofsky/Documents/Stanford/Research/Feldman/Ecology_of_Learning/Learning Strategies/Simulations/DatFrameFuns.py\", line 77, in GetXsteps\n    u1init = param_grid.u1init.values\nAttributeError: 'str' object has no attribute 'u1init'\n\"\"\"",
      "\nThe above exception was the direct cause of the following exception:\n",
      "\u001b[0;31mAttributeError\u001b[0m                            Traceback (most recent call last)",
      "\u001b[0;32m<ipython-input-3-a851d29754cd>\u001b[0m in \u001b[0;36m<module>\u001b[0;34m\u001b[0m\n\u001b[1;32m     12\u001b[0m \u001b[0;31m# get_1side_df iterates 50000 time steps. Stack dataframe (df) parts into one df.\u001b[0m\u001b[0;34m\u001b[0m\u001b[0;34m\u001b[0m\u001b[0;34m\u001b[0m\u001b[0m\n\u001b[1;32m     13\u001b[0m \u001b[0;34m\u001b[0m\u001b[0m\n\u001b[0;32m---> 14\u001b[0;31m \u001b[0mdf_out\u001b[0m \u001b[0;34m=\u001b[0m \u001b[0mnp\u001b[0m\u001b[0;34m.\u001b[0m\u001b[0mvstack\u001b[0m\u001b[0;34m(\u001b[0m\u001b[0mpool\u001b[0m\u001b[0;34m.\u001b[0m\u001b[0mmap\u001b[0m\u001b[0;34m(\u001b[0m\u001b[0mget_1side_df\u001b[0m\u001b[0;34m,\u001b[0m \u001b[0mdf_split\u001b[0m\u001b[0;34m)\u001b[0m\u001b[0;34m)\u001b[0m\u001b[0;34m\u001b[0m\u001b[0;34m\u001b[0m\u001b[0m\n\u001b[0m\u001b[1;32m     15\u001b[0m \u001b[0mpool\u001b[0m\u001b[0;34m.\u001b[0m\u001b[0mclose\u001b[0m\u001b[0;34m(\u001b[0m\u001b[0;34m)\u001b[0m\u001b[0;34m\u001b[0m\u001b[0;34m\u001b[0m\u001b[0m\n\u001b[1;32m     16\u001b[0m \u001b[0mpool\u001b[0m\u001b[0;34m.\u001b[0m\u001b[0mjoin\u001b[0m\u001b[0;34m(\u001b[0m\u001b[0;34m)\u001b[0m\u001b[0;34m\u001b[0m\u001b[0;34m\u001b[0m\u001b[0m\n",
      "\u001b[0;32m/usr/local/lib/python3.9/site-packages/pathos/multiprocessing.py\u001b[0m in \u001b[0;36mmap\u001b[0;34m(self, f, *args, **kwds)\u001b[0m\n\u001b[1;32m    135\u001b[0m         \u001b[0mAbstractWorkerPool\u001b[0m\u001b[0;34m.\u001b[0m\u001b[0m_AbstractWorkerPool__map\u001b[0m\u001b[0;34m(\u001b[0m\u001b[0mself\u001b[0m\u001b[0;34m,\u001b[0m \u001b[0mf\u001b[0m\u001b[0;34m,\u001b[0m \u001b[0;34m*\u001b[0m\u001b[0margs\u001b[0m\u001b[0;34m,\u001b[0m \u001b[0;34m**\u001b[0m\u001b[0mkwds\u001b[0m\u001b[0;34m)\u001b[0m\u001b[0;34m\u001b[0m\u001b[0;34m\u001b[0m\u001b[0m\n\u001b[1;32m    136\u001b[0m         \u001b[0m_pool\u001b[0m \u001b[0;34m=\u001b[0m \u001b[0mself\u001b[0m\u001b[0;34m.\u001b[0m\u001b[0m_serve\u001b[0m\u001b[0;34m(\u001b[0m\u001b[0;34m)\u001b[0m\u001b[0;34m\u001b[0m\u001b[0;34m\u001b[0m\u001b[0m\n\u001b[0;32m--> 137\u001b[0;31m         \u001b[0;32mreturn\u001b[0m \u001b[0m_pool\u001b[0m\u001b[0;34m.\u001b[0m\u001b[0mmap\u001b[0m\u001b[0;34m(\u001b[0m\u001b[0mstar\u001b[0m\u001b[0;34m(\u001b[0m\u001b[0mf\u001b[0m\u001b[0;34m)\u001b[0m\u001b[0;34m,\u001b[0m \u001b[0mzip\u001b[0m\u001b[0;34m(\u001b[0m\u001b[0;34m*\u001b[0m\u001b[0margs\u001b[0m\u001b[0;34m)\u001b[0m\u001b[0;34m)\u001b[0m \u001b[0;31m# chunksize\u001b[0m\u001b[0;34m\u001b[0m\u001b[0;34m\u001b[0m\u001b[0m\n\u001b[0m\u001b[1;32m    138\u001b[0m     \u001b[0mmap\u001b[0m\u001b[0;34m.\u001b[0m\u001b[0m__doc__\u001b[0m \u001b[0;34m=\u001b[0m \u001b[0mAbstractWorkerPool\u001b[0m\u001b[0;34m.\u001b[0m\u001b[0mmap\u001b[0m\u001b[0;34m.\u001b[0m\u001b[0m__doc__\u001b[0m\u001b[0;34m\u001b[0m\u001b[0;34m\u001b[0m\u001b[0m\n\u001b[1;32m    139\u001b[0m     \u001b[0;32mdef\u001b[0m \u001b[0mimap\u001b[0m\u001b[0;34m(\u001b[0m\u001b[0mself\u001b[0m\u001b[0;34m,\u001b[0m \u001b[0mf\u001b[0m\u001b[0;34m,\u001b[0m \u001b[0;34m*\u001b[0m\u001b[0margs\u001b[0m\u001b[0;34m,\u001b[0m \u001b[0;34m**\u001b[0m\u001b[0mkwds\u001b[0m\u001b[0;34m)\u001b[0m\u001b[0;34m:\u001b[0m\u001b[0;34m\u001b[0m\u001b[0;34m\u001b[0m\u001b[0m\n",
      "\u001b[0;32m/usr/local/lib/python3.9/site-packages/multiprocess/pool.py\u001b[0m in \u001b[0;36mmap\u001b[0;34m(self, func, iterable, chunksize)\u001b[0m\n\u001b[1;32m    362\u001b[0m         \u001b[0;32min\u001b[0m \u001b[0ma\u001b[0m \u001b[0mlist\u001b[0m \u001b[0mthat\u001b[0m \u001b[0;32mis\u001b[0m \u001b[0mreturned\u001b[0m\u001b[0;34m.\u001b[0m\u001b[0;34m\u001b[0m\u001b[0;34m\u001b[0m\u001b[0m\n\u001b[1;32m    363\u001b[0m         '''\n\u001b[0;32m--> 364\u001b[0;31m         \u001b[0;32mreturn\u001b[0m \u001b[0mself\u001b[0m\u001b[0;34m.\u001b[0m\u001b[0m_map_async\u001b[0m\u001b[0;34m(\u001b[0m\u001b[0mfunc\u001b[0m\u001b[0;34m,\u001b[0m \u001b[0miterable\u001b[0m\u001b[0;34m,\u001b[0m \u001b[0mmapstar\u001b[0m\u001b[0;34m,\u001b[0m \u001b[0mchunksize\u001b[0m\u001b[0;34m)\u001b[0m\u001b[0;34m.\u001b[0m\u001b[0mget\u001b[0m\u001b[0;34m(\u001b[0m\u001b[0;34m)\u001b[0m\u001b[0;34m\u001b[0m\u001b[0;34m\u001b[0m\u001b[0m\n\u001b[0m\u001b[1;32m    365\u001b[0m \u001b[0;34m\u001b[0m\u001b[0m\n\u001b[1;32m    366\u001b[0m     \u001b[0;32mdef\u001b[0m \u001b[0mstarmap\u001b[0m\u001b[0;34m(\u001b[0m\u001b[0mself\u001b[0m\u001b[0;34m,\u001b[0m \u001b[0mfunc\u001b[0m\u001b[0;34m,\u001b[0m \u001b[0miterable\u001b[0m\u001b[0;34m,\u001b[0m \u001b[0mchunksize\u001b[0m\u001b[0;34m=\u001b[0m\u001b[0;32mNone\u001b[0m\u001b[0;34m)\u001b[0m\u001b[0;34m:\u001b[0m\u001b[0;34m\u001b[0m\u001b[0;34m\u001b[0m\u001b[0m\n",
      "\u001b[0;32m/usr/local/lib/python3.9/site-packages/multiprocess/pool.py\u001b[0m in \u001b[0;36mget\u001b[0;34m(self, timeout)\u001b[0m\n\u001b[1;32m    769\u001b[0m             \u001b[0;32mreturn\u001b[0m \u001b[0mself\u001b[0m\u001b[0;34m.\u001b[0m\u001b[0m_value\u001b[0m\u001b[0;34m\u001b[0m\u001b[0;34m\u001b[0m\u001b[0m\n\u001b[1;32m    770\u001b[0m         \u001b[0;32melse\u001b[0m\u001b[0;34m:\u001b[0m\u001b[0;34m\u001b[0m\u001b[0;34m\u001b[0m\u001b[0m\n\u001b[0;32m--> 771\u001b[0;31m             \u001b[0;32mraise\u001b[0m \u001b[0mself\u001b[0m\u001b[0;34m.\u001b[0m\u001b[0m_value\u001b[0m\u001b[0;34m\u001b[0m\u001b[0;34m\u001b[0m\u001b[0m\n\u001b[0m\u001b[1;32m    772\u001b[0m \u001b[0;34m\u001b[0m\u001b[0m\n\u001b[1;32m    773\u001b[0m     \u001b[0;32mdef\u001b[0m \u001b[0m_set\u001b[0m\u001b[0;34m(\u001b[0m\u001b[0mself\u001b[0m\u001b[0;34m,\u001b[0m \u001b[0mi\u001b[0m\u001b[0;34m,\u001b[0m \u001b[0mobj\u001b[0m\u001b[0;34m)\u001b[0m\u001b[0;34m:\u001b[0m\u001b[0;34m\u001b[0m\u001b[0;34m\u001b[0m\u001b[0m\n",
      "\u001b[0;31mAttributeError\u001b[0m: 'str' object has no attribute 'u1init'"
     ]
    }
   ],
   "source": [
    "\n",
    "# Parallelize and find equilibria\n",
    "\n",
    "cores=mp.cpu_count()\n",
    "# split dataframe over cores, stored in df_split\n",
    "df_split = np.array_split(df, cores, axis=0)\n",
    "\n",
    "# remove this line... just for testing\n",
    "pool = Pool(cores)\n",
    "\n",
    "# Run get_1side_df over each dataframe in df_split. \n",
    "# get_1side_df iterates 50000 time steps. Stack dataframe (df) parts into one df.\n",
    "\n",
    "df_out = np.vstack(pool.map(get_1side_df, df_split))\n",
    "pool.close()\n",
    "pool.join()\n",
    "pool.clear()\n",
    "df_1side = pd.DataFrame(df_out, columns = df.columns)\n",
    "\n",
    "# fix the column names\n",
    "colnames = ['mu', 'K', 'pc', 's', 'D', 'beta',\n",
    "       'u1init', 'u2init', 'buinit', 'r1init', 'r2init', 'u1eq', 'u2eq',\n",
    "       'bueq', 'r1eq', 'r2eq', 'Weq', 'time', 'reached_eq', 'URstable']\n",
    "df_1side = df_1side[colnames] # gets rid of the added unnamed columns\n",
    "#save to csv\n",
    "df_1side.to_csv('data_1side_1stRound.csv')"
   ]
  },
  {
   "cell_type": "markdown",
   "metadata": {},
   "source": [
    "## Check the result of the 200,000th iteration to see if it is at equilibrium."
   ]
  },
  {
   "cell_type": "code",
   "execution_count": 45,
   "metadata": {
    "collapsed": true,
    "jupyter": {
     "outputs_hidden": true
    }
   },
   "outputs": [],
   "source": [
    "df_1side = pd.read_csv('data_1side_1stRound.csv')\n",
    "u1_derived = PredictEquilibrium_NoPref(df_1side.K,df_1side.pc,df_1side.beta)\n",
    "reached_eq = u1_drived - df_1side.u1eq == 0"
   ]
  },
  {
   "cell_type": "code",
   "execution_count": 49,
   "metadata": {},
   "outputs": [
    {
     "data": {
      "text/plain": [
       "255"
      ]
     },
     "execution_count": 49,
     "metadata": {},
     "output_type": "execute_result"
    }
   ],
   "source": [
    "# separate those that reached equilibrium from those that did not\n",
    "df_correct = df_1side.query('reached_eq==True')\n",
    "df_fail = df_1side.query('reached_eq==False')\n",
    "len(df_fail)"
   ]
  },
  {
   "cell_type": "code",
   "execution_count": 2,
   "metadata": {
    "collapsed": true,
    "jupyter": {
     "outputs_hidden": true
    }
   },
   "outputs": [],
   "source": [
    "def get_UniqueEquilibria(df,if_save=False):\n",
    "    df_eq = df.round(6)[(df.reached_eq==1)&(df.iterated==1)].groupby(['K','pc','s','mu','beta','u1eq','u2eq','bueq',\n",
    "                                                     'r1eq','r2eq','Weq','URstable'], as_index = False)\n",
    "    df_eq = df_eq['u2init'].count()\n",
    "    df_eq.rename(columns={'u2init':'NumInitials'}, inplace=True)\n",
    "    # df_eq.reset_index(inplace=True, drop=True)\n",
    "    df_eq = get_gradients(df_eq)\n",
    "    if if_save:\n",
    "        df_eq.to_csv('UniqueEquilibria.csv', index = False)\n",
    "    return(df_eq)"
   ]
  },
  {
   "cell_type": "code",
   "execution_count": 3,
   "metadata": {
    "collapsed": true,
    "jupyter": {
     "outputs_hidden": true
    }
   },
   "outputs": [],
   "source": [
    "# We have a lot of repeat equilibria in the dataframe df because many of the initial points go to the same equilibrium.\n",
    "# We now extract the unique equilibria for each parameter combination.\n",
    "df = pd.read_csv('data.csv')\n",
    "df_main = df[(df.reached_eq==1)&(df.iterated==1)]\n",
    "unique_eq = get_UniqueEquilibria(df_main)\n",
    "diff = np.abs(unique_eq.u1eq - unique_eq.u2eq)\n",
    "unique_eq['difference'] = diff\n",
    "unique_eq.to_csv('UniqueEquilibriaDF.csv')"
   ]
  },
  {
   "cell_type": "markdown",
   "metadata": {},
   "source": [
    "# Check Stability\n",
    "\n",
    "It helps to have columns documenting which alleles can invade. These columns are x_pos_invades, x_neg_invades, D_pos_invades, and D_neg_invades:\n",
    "- x_pos_invades = TRUE if $C_s > 0$ and $K < 1$. Else false\n",
    "- x_neg_invades = TRUE if $C_s < 0$ and $K > 0$. Else false\n",
    "- D_pos_invades = TRUE if $C_D > 0$ and $D < 1$. Else false\n",
    "- D_neg_invades = TRUE if $C_D < 0$ and $D > -2$  \n",
    "There are many cases of $C_D = 0$ that need to be resolved. There are no cases of $C_s = 0$."
   ]
  },
  {
   "cell_type": "code",
   "execution_count": 4,
   "metadata": {
    "collapsed": true,
    "jupyter": {
     "outputs_hidden": true
    }
   },
   "outputs": [],
   "source": [
    "unique_eq['x_pos_invades'] = unique_eq.C_s > 0\n",
    "\n",
    "\n",
    "unique_eq['x_neg_invades'] = unique_eq.C_s < 0\n",
    "unique_eq.loc[unique_eq.K == 0, 'x_neg_invades'] = False\n",
    "\n",
    "unique_eq['y_pos_invades'] = unique_eq.C_D > 0\n",
    "unique_eq.loc[unique_eq.D == 1, 'y_pos_invades'] = False\n",
    "\n",
    "unique_eq['y_neg_invades'] = unique_eq.C_D < 0\n",
    "unique_eq.loc[unique_eq.D == -2, 'y_neg_invades'] = False\n",
    "\n",
    "unique_eq.to_csv('UniqueEquilibriaDF.csv')"
   ]
  },
  {
   "cell_type": "code",
   "execution_count": 5,
   "metadata": {
    "tags": []
   },
   "outputs": [
    {
     "ename": "NameError",
     "evalue": "name 'df_check' is not defined",
     "output_type": "error",
     "traceback": [
      "\u001b[0;31m---------------------------------------------------------------------------\u001b[0m",
      "\u001b[0;31mNameError\u001b[0m                                 Traceback (most recent call last)",
      "\u001b[0;32m<ipython-input-5-dbe23624f8ac>\u001b[0m in \u001b[0;36m<module>\u001b[0;34m()\u001b[0m\n\u001b[1;32m      7\u001b[0m \u001b[0mpool\u001b[0m\u001b[0;34m.\u001b[0m\u001b[0mjoin\u001b[0m\u001b[0;34m(\u001b[0m\u001b[0;34m)\u001b[0m\u001b[0;34m\u001b[0m\u001b[0m\n\u001b[1;32m      8\u001b[0m \u001b[0mpool\u001b[0m\u001b[0;34m.\u001b[0m\u001b[0mclear\u001b[0m\u001b[0;34m(\u001b[0m\u001b[0;34m)\u001b[0m\u001b[0;34m\u001b[0m\u001b[0m\n\u001b[0;32m----> 9\u001b[0;31m \u001b[0mcols\u001b[0m \u001b[0;34m=\u001b[0m  \u001b[0mdf_check\u001b[0m\u001b[0;34m.\u001b[0m\u001b[0mcolumns\u001b[0m\u001b[0;34m\u001b[0m\u001b[0m\n\u001b[0m\u001b[1;32m     10\u001b[0m \u001b[0mdf_fixed\u001b[0m \u001b[0;34m=\u001b[0m \u001b[0mpd\u001b[0m\u001b[0;34m.\u001b[0m\u001b[0mDataFrame\u001b[0m\u001b[0;34m(\u001b[0m\u001b[0mdf_out\u001b[0m\u001b[0;34m,\u001b[0m \u001b[0mcolumns\u001b[0m \u001b[0;34m=\u001b[0m \u001b[0mcols\u001b[0m\u001b[0;34m)\u001b[0m\u001b[0;34m\u001b[0m\u001b[0m\n\u001b[1;32m     11\u001b[0m \u001b[0;34m\u001b[0m\u001b[0m\n",
      "\u001b[0;31mNameError\u001b[0m: name 'df_check' is not defined"
     ]
    }
   ],
   "source": [
    "unique_eq = pd.read_csv('UniqueEquilibriaDF.csv')\n",
    "cores=mp.cpu_count()\n",
    "df_split = np.array_split(unique_eq, cores, axis=0)\n",
    "pool = Pool(cores)\n",
    "df_out = np.vstack(pool.map(df_ext_stability_iterate, df_split))\n",
    "pool.close()\n",
    "pool.join()\n",
    "pool.clear()\n"
   ]
  },
  {
   "cell_type": "code",
   "execution_count": 6,
   "metadata": {
    "collapsed": true,
    "jupyter": {
     "outputs_hidden": true
    }
   },
   "outputs": [],
   "source": [
    "cols =  unique_eq.columns\n",
    "df_fixed = pd.DataFrame(df_out, columns = cols)\n",
    "\n",
    "df_fixed.to_csv('UniqueEquilibriaDF_fixed.csv')"
   ]
  },
  {
   "cell_type": "markdown",
   "metadata": {},
   "source": [
    "Now we check that the values of $C_s$ reflect whether invasion actually happens."
   ]
  },
  {
   "cell_type": "code",
   "execution_count": 82,
   "metadata": {},
   "outputs": [
    {
     "data": {
      "text/plain": [
       "0.0007210919190953562"
      ]
     },
     "execution_count": 82,
     "metadata": {},
     "output_type": "execute_result"
    }
   ],
   "source": [
    "# find examples that don't agree with the sign of C_s\n",
    "df_disagree_x_neg = df_fixed.query('C_s < 0 & s > 0 & (x_neg_invades == False or x_pos_invades == True)')\n",
    "max(np.abs(df_disagree_x_neg.C_s))"
   ]
  },
  {
   "cell_type": "code",
   "execution_count": null,
   "metadata": {
    "collapsed": true,
    "jupyter": {
     "outputs_hidden": true
    }
   },
   "outputs": [],
   "source": [
    "Thus $C_s < 0$ does not necessarily mean only decreased social learning invades if $|C_s| < 0.0007$."
   ]
  },
  {
   "cell_type": "code",
   "execution_count": 79,
   "metadata": {},
   "outputs": [
    {
     "data": {
      "text/plain": [
       "0.0019356505877986985"
      ]
     },
     "execution_count": 79,
     "metadata": {},
     "output_type": "execute_result"
    }
   ],
   "source": [
    "df_disagree_x_pos = df_fixed.query('C_s > 0  & (x_neg_invades == True or x_pos_invades == False)')\n",
    "max(df_disagree_x_pos.C_s)"
   ]
  },
  {
   "cell_type": "markdown",
   "metadata": {},
   "source": [
    "Thus $C_s > 0$ does not necessarily mean only increased social learning invades if $C_s < 0.0019$."
   ]
  },
  {
   "cell_type": "markdown",
   "metadata": {},
   "source": [
    "Now we check that the values of $C_D$ reflect whether invasion actually happens."
   ]
  },
  {
   "cell_type": "code",
   "execution_count": 83,
   "metadata": {},
   "outputs": [
    {
     "data": {
      "text/plain": [
       "9.340795453064158e-06"
      ]
     },
     "execution_count": 83,
     "metadata": {},
     "output_type": "execute_result"
    }
   ],
   "source": [
    "df_disagree_y_neg = df_fixed.query('C_D < 0 & D > -2 & (y_neg_invades == False or y_pos_invades == True)')\n",
    "max(np.abs(df_disagree_y_neg.C_D))"
   ]
  },
  {
   "cell_type": "code",
   "execution_count": 86,
   "metadata": {},
   "outputs": [
    {
     "data": {
      "text/html": [
       "<div>\n",
       "<style scoped>\n",
       "    .dataframe tbody tr th:only-of-type {\n",
       "        vertical-align: middle;\n",
       "    }\n",
       "\n",
       "    .dataframe tbody tr th {\n",
       "        vertical-align: top;\n",
       "    }\n",
       "\n",
       "    .dataframe thead th {\n",
       "        text-align: right;\n",
       "    }\n",
       "</style>\n",
       "<table border=\"1\" class=\"dataframe\">\n",
       "  <thead>\n",
       "    <tr style=\"text-align: right;\">\n",
       "      <th></th>\n",
       "      <th>Unnamed: 0</th>\n",
       "      <th>K</th>\n",
       "      <th>pc</th>\n",
       "      <th>s</th>\n",
       "      <th>mu</th>\n",
       "      <th>D</th>\n",
       "      <th>beta</th>\n",
       "      <th>u1eq</th>\n",
       "      <th>u2eq</th>\n",
       "      <th>bueq</th>\n",
       "      <th>...</th>\n",
       "      <th>Weq</th>\n",
       "      <th>URstable</th>\n",
       "      <th>NumInitials</th>\n",
       "      <th>C_s</th>\n",
       "      <th>C_D</th>\n",
       "      <th>difference</th>\n",
       "      <th>x_pos_invades</th>\n",
       "      <th>x_neg_invades</th>\n",
       "      <th>y_pos_invades</th>\n",
       "      <th>y_neg_invades</th>\n",
       "    </tr>\n",
       "  </thead>\n",
       "  <tbody>\n",
       "  </tbody>\n",
       "</table>\n",
       "<p>0 rows × 22 columns</p>\n",
       "</div>"
      ],
      "text/plain": [
       "Empty DataFrame\n",
       "Columns: [Unnamed: 0, K, pc, s, mu, D, beta, u1eq, u2eq, bueq, r1eq, r2eq, Weq, URstable, NumInitials, C_s, C_D, difference, x_pos_invades, x_neg_invades, y_pos_invades, y_neg_invades]\n",
       "Index: []\n",
       "\n",
       "[0 rows x 22 columns]"
      ]
     },
     "execution_count": 86,
     "metadata": {},
     "output_type": "execute_result"
    }
   ],
   "source": [
    "df_disagree_y_pos = df_fixed.query('C_D > 0 & D <1  & (y_neg_invades == True or y_pos_invades == False)')\n",
    "df_disagree_y_pos "
   ]
  },
  {
   "cell_type": "markdown",
   "metadata": {},
   "source": [
    "Thus $C_D < 0$ does not necessarily mean only decreased $D$ invades if $|C_D| < 0.000009$ and over all our paramater combinations $C_D > 0$ always means increased $D$ invades "
   ]
  },
  {
   "cell_type": "markdown",
   "metadata": {},
   "source": [
    "# Next, go to SensitivityAnalysis.Rmd to see analysis of these equilibria"
   ]
  },
  {
   "cell_type": "markdown",
   "metadata": {},
   "source": [
    "No longer used:"
   ]
  },
  {
   "cell_type": "code",
   "execution_count": 1,
   "metadata": {
    "tags": []
   },
   "outputs": [
    {
     "ename": "SyntaxError",
     "evalue": "invalid syntax (<ipython-input-1-3619a1b5057e>, line 55)",
     "output_type": "error",
     "traceback": [
      "\u001b[0;36m  File \u001b[0;32m\"<ipython-input-1-3619a1b5057e>\"\u001b[0;36m, line \u001b[0;32m55\u001b[0m\n\u001b[0;31m    dy1vec = np.array([0.05, 0.3,0.0.08])*dy\u001b[0m\n\u001b[0m                                    ^\u001b[0m\n\u001b[0;31mSyntaxError\u001b[0m\u001b[0;31m:\u001b[0m invalid syntax\n"
     ]
    }
   ],
   "source": [
    "\n",
    "def Check_Stable_D(row):\n",
    "# We have a bunch of points with C_D = 0. Check_Stable_D checks if they're actually stable\n",
    "\n",
    "    row = row.copy() # explicitly tell python i'm making a copy so i don't get the warning\n",
    "    \n",
    "    # get vectors of post perturb values of all the frequencies\n",
    "    umat,ymat,rmat = Perturb(row) # Perturb is a function defined below\n",
    "    umat = np.array(umat); ymat = np.array(ymat); rmat = np.array(rmat)\n",
    "    # check stability to increase in D\n",
    "    \n",
    "    dD =  0.01\n",
    "    n = len(umat[0]) \n",
    "    y_pos_invades = False # default is that it is stable\n",
    "    if row.D <= 0.99: # because if D >= 0.99 then dD \\geq 0.01 can't invade\n",
    "        for i in range(0,n):\n",
    "            result = NextGen(umat[:,i],[0,0,0],ymat[:,i],rmat[:,i], \n",
    "                             row.D, row.K,row.pc,row.beta,\n",
    "                             deltas = [dD, 0, 0], eta=1)\n",
    "            yvec = result[2]\n",
    "            y = sum(yvec)\n",
    "            if y > 0.01: # asking: after 1 iteration, does y increase?\n",
    "                y_pos_invades = True\n",
    "                break\n",
    "    # We don't need to worry about cases of 0.99 < D < 1 because I don't have any of those\n",
    "    \n",
    "    dD = -0.01\n",
    "    y_neg_invades = False # default is that it is stable\n",
    "    #check stability to decrease in D\n",
    "    if row.D >= -1.99: # otherwise it's stable because D can't go down further\n",
    "        for i in range(0,n):\n",
    "            result = NextGen(umat[:,i],[0,0,0],ymat[:,i],rmat[:,i], \n",
    "                             row.D, row.K,row.pc,row.beta,\n",
    "                             deltas = [dD, 0, 0], eta=1)\n",
    "            yvec = result[2]\n",
    "            y = sum(yvec)\n",
    "            if y > 0.01: \n",
    "                y_neg_invades = True \n",
    "                break\n",
    "    \n",
    "    row.loc['y_pos_invades'] = y_pos_invades\n",
    "    row.loc['y_neg_invades'] = y_neg_invades\n",
    "    return(row)\n",
    "\n",
    "def Perturb(row):\n",
    "# After the [u1,u2,bu,r1,r2] eq is perturbed with the addition of the a or b allele, get new frequencies\n",
    "# perturb by a magnitude of 0.01... so |dr1| = |dr2| = |du| = 0.01, and either |dx| or |dy| = 0.01\n",
    "\n",
    "    # use dyvec here but dxvec could work too\n",
    "    uvec = [row.u1eq, row.u2eq, row.bueq]\n",
    "    rvec = [row.r1eq, row.r2eq]\n",
    "    # get new post-perturb vectors\n",
    "    \n",
    "    # no need to check if valid\n",
    "    dy = 0.01\n",
    "    dy1vec = np.array([0.05, 0.3,0.48, 0.08])*dy\n",
    "    dy2vec = np.array([0.1,0.6,0.9])*dy\n",
    "    dbyvec = dy - dy1vec - dy2vec\n",
    "    which_y = [0,1,2,3]\n",
    "    \n",
    "    #dr... prune r + dr values that are invalid\n",
    "    \n",
    "    dr1=0 #the default is not changing r1\n",
    "    if rvec[0]>0:\n",
    "        dr1 = np.array([-0.01,0.01])\n",
    "        check_r1 = (rvec[0] + dr1 > 0)&(rvec[0] + dr1 < 1)\n",
    "        dr1 = dr1[check_r1]\n",
    "    dr2 = 0\n",
    "    if rvec[1]>0:\n",
    "        dr2 = np.array([-0.01,0.01])\n",
    "        check_r2 = (rvec[1] + dr2 > 0) & (rvec[1] + dr2 < 1)\n",
    "        dr2 = dr2[check_r2]\n",
    "    \n",
    "    # du perturbations... look similar to x perturbs, but opposite direction\n",
    "    du = -dy\n",
    "    du1vec = np.array([0.015, 0.29,0.49, 0.07])*du\n",
    "    du2vec = np.array([0.11,0.49,0.51,0.89])*du\n",
    "    dbuvec = du - du1vec - du2vec\n",
    "    which_u = [0,1,2,3]\n",
    "    for i in which_u:\n",
    "        duvec = [du1vec[i],du2vec[i],dbuvec[i]]\n",
    "        [du1vec[i],du2vec[i],dbuvec[i]] = Perturb_EdgeCase(uvec,duvec)\n",
    "    \n",
    "    # now find all the combinations\n",
    "    which_y_mesh, which_u_mesh, DR1, DR2 = np.meshgrid(which_y, which_u, dr1, dr2)\n",
    "    [which_y, which_u, dr1, dr2] = [np.ndarray.flatten(item) for \n",
    "                                    item in [which_y_mesh, which_u_mesh, DR1, DR2]]\n",
    "    y1 = dy1vec[which_y]; y2 = dy2vec[which_y]; by = dbyvec[which_y]\n",
    "    u1 = uvec[0] + du1vec[which_u]\n",
    "    u2 = uvec[1] + du2vec[which_u]\n",
    "    bu = uvec[2] + dbuvec[which_u]\n",
    "    r1 = rvec[0] + dr1\n",
    "    r2 = rvec[1] + dr2\n",
    "    \n",
    "    \n",
    "    return([u1,u2,bu],[y1,y2,by],[r1,r2])\n",
    "\n",
    "def Perturb_EdgeCase(uvec,duvec):\n",
    "    #recursively checks for edge cases so i don't get an invalid frequency. Adjusts duvec if needed\n",
    "    \n",
    "    # make sure using numpy arrays\n",
    "    du = sum(duvec)\n",
    "    uvec = np.array(uvec); duvec = np.array(duvec);\n",
    "    # find locations of edge cases\n",
    "    edge_bool = uvec + duvec <= 0\n",
    "    \n",
    "    n = sum(edge_bool)\n",
    "    if n>0:\n",
    "        duvec[edge_bool] = -uvec[edge_bool] +0.00001 # so not at exactly 0\n",
    "        du_remain = du - sum(duvec)\n",
    "        duvec[~edge_bool] = duvec[~edge_bool] + (1/np.float64(3-n))*du_remain\n",
    "        \n",
    "        # make sure that we didn't cause a different frequency to be negative:\n",
    "        return(Perturb_EdgeCase(uvec,duvec))\n",
    "\n",
    "    else:\n",
    "        return(duvec)\n",
    "\n",
    "\n",
    "def get_stable_check(df):\n",
    "    # this function is just a wrapper to be used with pool.map that takes a dataframe as an input and\n",
    "    # runs Check_Stable_D over the data frame\n",
    "    df = df.apply(lambda row: Check_Stable_D(row), axis = 1)\n",
    "    return(df)"
   ]
  }
 ],
 "metadata": {
  "kernelspec": {
   "display_name": "Python 3",
   "language": "python",
   "name": "python3"
  },
  "language_info": {
   "codemirror_mode": {
    "name": "ipython",
    "version": 3
   },
   "file_extension": ".py",
   "mimetype": "text/x-python",
   "name": "python",
   "nbconvert_exporter": "python",
   "pygments_lexer": "ipython3",
   "version": "3.9.2"
  }
 },
 "nbformat": 4,
 "nbformat_minor": 4
}
