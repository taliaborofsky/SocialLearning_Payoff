{
 "cells": [
  {
   "cell_type": "code",
   "execution_count": 1,
   "metadata": {},
   "outputs": [],
   "source": [
    "#from PIL import Image\n",
    "#import sys\n",
    "#sys.path.append('/usr/local/lib/python3.7/site-packages')\n",
    "import os\n",
    "import numpy as np\n",
    "import importlib\n",
    "from numpy import linalg\n",
    "import helperfuns\n",
    "from helperfuns import *\n",
    "import scipy.stats as scs\n",
    "import matplotlib as mpl\n",
    "import matplotlib.pyplot as plt\n",
    "#importlib.reload(helperfuns)\n",
    "import pandas as pd\n",
    "import sympy as sp\n",
    "from sympy import *\n",
    "from sympy.solvers import solve\n",
    "np.set_printoptions(precision=3, suppress = True)\n",
    "import pandas as pd"
   ]
  },
  {
   "cell_type": "code",
   "execution_count": 4,
   "metadata": {},
   "outputs": [],
   "source": [
    "#initials\n",
    "mu = 0.2; sigma = 1 # These are the parameters of Wakano Aoki 2007\n",
    "norm = scs.norm(mu,sigma**2)\n",
    "\n",
    "#importlib.reload(helperfuns)"
   ]
  },
  {
   "cell_type": "markdown",
   "metadata": {},
   "source": [
    "Make table of starting values, end value, and parameters\n"
   ]
  },
  {
   "cell_type": "code",
   "execution_count": 7,
   "metadata": {},
   "outputs": [],
   "source": [
    "\n",
    "uinitials = [[0.1, 0.15], [0.1, 0.4], [0.1, 0.8], [0.4, 0.2],[0.4, 0.5], [0.72, 0.16]]\n",
    "uinitials = [[uvec[0], uvec[1], 1 - uvec[0] - uvec[1]] for uvec in uinitials]\n",
    "rinitials = [[0.1,0.05],[0.1,0.9],[0.3,0.65],[0.6,0.3],[0.85,0.9],[0.85,0.05]]\n",
    "numparams = 5 # only 5 options for each parameter\n",
    "dVals = np.linspace(0,2,pnumparams)\n",
    "Kvals = [Kfun(d,norm) for d in dVals]\n",
    "pcvals = [pcfun(d,norm) for d in dVals]\n",
    "pwvals = [1 - Kvals[i] - pcvals[i] for i in range(0,numparams)]\n",
    "betavals = np.linspace(0.01, 1, numparams)\n",
    "gammavals = np.linspace(0.01,1,numparams)\n",
    "Dvals = np.linspace(0,1, numparams)\n",
    "deltas = [0,0,0] # not sure if should vary deltas\n",
    "tsteps = 1000\n",
    "# uvec, xvec, yvec, rvec,Wval = NextGen(uvec,xvec,yvec,rvec, Dval, Kval,pcval,deltas, betaval, gammaval)\n",
    "# uvec, xvec,yvec,rvec,Wval,t,reached_eq = FindEquilibrium(uvec,xvec,yvec,rvec,Kval,pcval,Dval,tsteps,deltas,betaval,gammaval)\n",
    "# Jstar = Jac_UR(uvec, rvec, Kval, Dval, Wval, betaval, gammaval)#check stable\n",
    "# evals = LA.eigvals(Jstar)"
   ]
  },
  {
   "cell_type": "code",
   "execution_count": 20,
   "metadata": {},
   "outputs": [],
   "source": [
    "from sympy.abc import beta, eta\n",
    "from sympy.abc import theta\n",
    "#Dw, Du1, Du2, Dbu = sp.symbols('\\Delta_w, \\Delta_{u_1}, \\Delta_{u_2}, \\Delta_{u_3}', real = True)\n",
    "#Dx1, Dx2, Dbx, Dy1, Dy2, Dby, Dr1, Dr2 = sp.symbols('\\Delta_{x_1}, \\Delta_{x_2}, \\Delta_{x_3}, \\Delta_{y_1}, \\Delta_{y_2}, \\Delta_{y_3}, \\Delta_{r_1}, \\Delta_{r_2}', real = True)\n",
    "#U1,U2,bU,X1,X2,bX,Y1,Y2,bY,A1,A2 = sp.symbols('U_1,U_2,U_3,X_1,X_2,X_3,Y_1,Y_2,Y_3,A_1,A_2', real = True)\n",
    "u1,u2,bu,x1,x2,bx,y1,y2,by,r1,r2, W = sp.symbols('\\hat{u_1},\\hat{u_2},u_3,x_1,x_2,x_3,y_1,y_2,y_3,\\hat{r_1},\\hat{r_2}, W', real = True)\n",
    "#phi1, phi2, phi3, theta1, theta2, theta3 = sp.symbols('\\phi_1, \\phi_2, \\phi_{12}, theta_1, theta_2, theta_3')\n",
    "#pc, pw, g = sp.symbols('\\pi_C, \\pi_W, g', real = True)\n",
    "l = sp.symbols('\\lambda', real = True)\n",
    "gamma, eta = sp.symbols('\\gamma, \\eta')"
   ]
  },
  {
   "cell_type": "code",
   "execution_count": 6,
   "metadata": {},
   "outputs": [],
   "source": [
    "Dp1 = Du1 + Dx1 + Dy1\n",
    "Dp2 = Du2 + Dx2 + Dy2\n",
    "Du = Du1 + Du2 + Dbu\n",
    "Dx = Dx1 + Dx2 + Dbx\n",
    "Dy = Dy1 + Dy2 + Dby\n",
    "Dw = Du*W + Dx*W + Dy*W + Dp1*U1 + Dp2*U2 + (Dp1 + Dp2)*bU + Dr1*A1 + Dr2*A2 + Dx*(X1+X2+bX) + Dy*(Y1+Y2+bY)\n",
    "Du1p = (1/W)*((W*u1 + Dp1*U1 + Dr1*A1 + Du*W*u1)-Dw*u1)\n",
    "Du2p = (1/W)*((W*u2 + Dp2*U2 + Dr2*A2 + Du*W*u2)-Dw*u2)\n",
    "Du3p = (1/W)*((W*bu + (Dp1+Dp2)*bU + Du*W*bu)-Dw*bu)"
   ]
  },
  {
   "cell_type": "markdown",
   "metadata": {},
   "source": [
    "# Case K = 0\n",
    "\n",
    "Both resource values depleted"
   ]
  },
  {
   "cell_type": "code",
   "execution_count": 5,
   "metadata": {},
   "outputs": [],
   "source": [
    "pc_actual = pcfun(0,norm)"
   ]
  },
  {
   "cell_type": "code",
   "execution_count": null,
   "metadata": {},
   "outputs": [],
   "source": []
  },
  {
   "cell_type": "code",
   "execution_count": 49,
   "metadata": {},
   "outputs": [],
   "source": [
    "\n",
    "A1 = W*u1/(1+r1);\n",
    "A2 = W*u2/(1+r2)\n",
    "a13 = A1*(1 -u1)/W\n",
    "a14 = -u1*A2/W\n",
    "a23 = -u2*A1/W\n",
    "a24 = A2*(1 - u2)/W\n",
    "a31 = -beta*r1/(1 + gamma*r1)\n",
    "a33 = 1/(1 + gamma*r1)\n",
    "a42 = -beta*r2/(1 + gamma*r2)\n",
    "a44 = 1/(1 + gamma*r2)\n",
    "\n",
    "Jstar = Matrix([[0,0,a13,a14],[0,0,a23,a24],[a31,0,a33,0],[0,a42,0,a44]])\n",
    "#print(latex(Jstar))\n",
    "p = Jstar.charpoly(); \n",
    "coefflist = p.coeffs()\n",
    "p = coefflist[0]*l**4 + coefflist[1]*l**3 + coefflist[2]*l**2 + coefflist[3]*l + coefflist[4]\n",
    "p = simplify(p*(1+gamma*r1)*(1+gamma*r2)*(1+r2)*(1+r1))\n",
    "p = p.collect(l)"
   ]
  },
  {
   "cell_type": "code",
   "execution_count": 73,
   "metadata": {},
   "outputs": [
    {
     "data": {
      "text/latex": [
       "$\\displaystyle \\gamma^{2} \\hat{r_1}^{2} \\hat{r_2}^{2} + \\gamma^{2} \\hat{r_1}^{2} \\hat{r_2} + \\gamma^{2} \\hat{r_1} \\hat{r_2}^{2} + \\gamma^{2} \\hat{r_1} \\hat{r_2} - \\gamma \\hat{r_1}^{2} \\hat{r_2} \\hat{u_2}^{2} \\beta + \\gamma \\hat{r_1}^{2} \\hat{r_2} \\hat{u_2} \\beta - \\gamma \\hat{r_1} \\hat{r_2}^{2} \\hat{u_2}^{2} \\beta + \\gamma \\hat{r_1} \\hat{r_2}^{2} \\hat{u_2} \\beta - 2 \\gamma \\hat{r_1} \\hat{r_2} \\hat{u_2}^{2} \\beta + 2 \\gamma \\hat{r_1} \\hat{r_2} \\hat{u_2} \\beta - 2 \\hat{r_1} \\hat{r_2} \\hat{u_2}^{3} \\beta^{2} + \\hat{r_1} \\hat{r_2} \\hat{u_2}^{2} \\beta^{2}$"
      ],
      "text/plain": [
       "\\gamma**2*\\hat{r_1}**2*\\hat{r_2}**2 + \\gamma**2*\\hat{r_1}**2*\\hat{r_2} + \\gamma**2*\\hat{r_1}*\\hat{r_2}**2 + \\gamma**2*\\hat{r_1}*\\hat{r_2} - \\gamma*\\hat{r_1}**2*\\hat{r_2}*\\hat{u_2}**2*beta + \\gamma*\\hat{r_1}**2*\\hat{r_2}*\\hat{u_2}*beta - \\gamma*\\hat{r_1}*\\hat{r_2}**2*\\hat{u_2}**2*beta + \\gamma*\\hat{r_1}*\\hat{r_2}**2*\\hat{u_2}*beta - 2*\\gamma*\\hat{r_1}*\\hat{r_2}*\\hat{u_2}**2*beta + 2*\\gamma*\\hat{r_1}*\\hat{r_2}*\\hat{u_2}*beta - 2*\\hat{r_1}*\\hat{r_2}*\\hat{u_2}**3*beta**2 + \\hat{r_1}*\\hat{r_2}*\\hat{u_2}**2*beta**2"
      ]
     },
     "execution_count": 73,
     "metadata": {},
     "output_type": "execute_result"
    }
   ],
   "source": [
    "#print(latex(p))\n",
    "#print(latex(simplify(coefflist[1]*(1+r2)*(1+r1))))\n",
    "#print(latex(simplify(factor(coefflist[2])*(1+r1)*(1+r2)*(1 + gamma*r1)*(1 + gamma*r2))))\n",
    "#print(latex(simplify(factor(coefflist[3])*(1+r1)*(1+r2)*(1+gamma*r1)*(1+gamma*r2))))\n",
    "p.subs([(l,1),(u1,u2)])"
   ]
  },
  {
   "cell_type": "code",
   "execution_count": 6,
   "metadata": {},
   "outputs": [
    {
     "data": {
      "text/plain": [
       "2.4560054672816185"
      ]
     },
     "execution_count": 6,
     "metadata": {},
     "output_type": "execute_result"
    }
   ],
   "source": [
    "def u1u2_firstreq_K0(eta_val, pc_val):\n",
    "    # for u1=u2, r1 = 1 - eta*u1\n",
    "    #eta_val = np.\n",
    "    a = 2*pc_val*eta_val\n",
    "    b = -(1+3*pc_val+pc_val*eta_val)\n",
    "    c = 2*pc_val\n",
    "    u1_pos = (-b + np.sqrt(b**2 - 4*a*c))/(2*a)\n",
    "    u1_neg = (-b - np.sqrt(b**2 - 4*a*c))/(2*a)\n",
    "    u1eq = u1_pos if eta_val < (1 + 3*pc_val)/pc_val else u1_neg\n",
    "    return(u1eq)\n",
    "u1u2_firstreq_K0(1,pc_actual)"
   ]
  },
  {
   "cell_type": "markdown",
   "metadata": {},
   "source": [
    "Only one resource value depleted"
   ]
  },
  {
   "cell_type": "code",
   "execution_count": 9,
   "metadata": {},
   "outputs": [
    {
     "data": {
      "text/latex": [
       "$\\displaystyle 48 \\pi_C^{3} \\left(\\pi_C - 1\\right)$"
      ],
      "text/plain": [
       "48*\\pi_C**3*(\\pi_C - 1)"
      ]
     },
     "execution_count": 9,
     "metadata": {},
     "output_type": "execute_result"
    }
   ],
   "source": [
    "# scratch work\n",
    "\n",
    "#check real\n",
    "expr = simplify(4*pc**2*(1-4*pc)**2 - 4*(pc**2)*(2*pc+1)**2)"
   ]
  },
  {
   "cell_type": "code",
   "execution_count": 12,
   "metadata": {},
   "outputs": [
    {
     "data": {
      "text/plain": [
       "1.726341369345884"
      ]
     },
     "execution_count": 12,
     "metadata": {},
     "output_type": "execute_result"
    }
   ],
   "source": [
    "u1posneg = sp.solve(u1 + 2*pc*u1 - pc*eta*u1**2 - 2*pc + eta*u1*pc, u1)\n",
    "u1eq = u1posneg[0]\n",
    "u2eq = pc/(1 + 2*pc - pc*eta*u1eq)\n",
    "u2eq = simplify(u2eq)\n",
    "rhs = simplify(1 - u1eq)\n",
    "#print(latex(rhs))\n",
    "n,du2 = fraction(u2eq)\n",
    "nrhs, d = fraction(rhs)\n",
    "simplify(du2*nrhs)\n",
    "du2\n",
    "nrhs\n",
    "expand((1 + 2*pc + eta*pc)**2 - 8*eta*pc**2)\n",
    "1/pc_actual"
   ]
  },
  {
   "cell_type": "code",
   "execution_count": 23,
   "metadata": {},
   "outputs": [
    {
     "data": {
      "text/latex": [
       "$\\displaystyle \\eta^{2} \\pi_C^{2} - 4 \\eta \\pi_C^{2} + 2 \\eta \\pi_C + 4 \\pi_C^{2} + 4 \\pi_C + 1$"
      ],
      "text/plain": [
       "\\eta**2*\\pi_C**2 - 4*\\eta*\\pi_C**2 + 2*\\eta*\\pi_C + 4*\\pi_C**2 + 4*\\pi_C + 1"
      ]
     },
     "execution_count": 23,
     "metadata": {},
     "output_type": "execute_result"
    }
   ],
   "source": [
    "#u1eq.subs([(pc,pc_actual),(eta,0.1)])\n",
    "u1eq\n",
    "expand(((1 + 2*pc + eta*pc)**2 - 8*eta*pc**2))"
   ]
  },
  {
   "cell_type": "code",
   "execution_count": 185,
   "metadata": {},
   "outputs": [
    {
     "data": {
      "text/latex": [
       "$\\displaystyle \\frac{r_{2} \\left(\\gamma - \\hat{u_2} \\beta\\right) + \\left(\\gamma r_{2} + 1\\right) \\left(\\sqrt{\\frac{- 4 \\hat{u_2} \\beta r_{2}^{2} \\left(1 - \\hat{u_2}\\right) \\left(\\gamma r_{2} + 1\\right) + \\left(r_{2} + 1\\right) \\left(\\gamma r_{2} + r_{2} \\left(\\gamma - \\hat{u_2} \\beta\\right) + 1\\right)^{2}}{\\left(r_{2} + 1\\right) \\left(\\gamma r_{2} + 1\\right)^{2}}} + 1\\right)}{2 \\left(\\gamma r_{2} + 1\\right)}$"
      ],
      "text/plain": [
       "(r_2*(\\gamma - \\hat{u_2}*beta) + (\\gamma*r_2 + 1)*(sqrt((-4*\\hat{u_2}*beta*r_2**2*(1 - \\hat{u_2})*(\\gamma*r_2 + 1) + (r_2 + 1)*(\\gamma*r_2 + r_2*(\\gamma - \\hat{u_2}*beta) + 1)**2)/((r_2 + 1)*(\\gamma*r_2 + 1)**2)) + 1))/(2*(\\gamma*r_2 + 1))"
      ]
     },
     "execution_count": 185,
     "metadata": {},
     "output_type": "execute_result"
    }
   ],
   "source": [
    "# scratch work\n",
    "a = 1\n",
    "b = -1 - (r2*(gamma - beta*u2))/(1+gamma*r2)\n",
    "c = (beta*u2*r2**2)*(1-u2)/((1+gamma*r2)*(1+r2))\n",
    "lambda5_pos = (-b +sqrt(b**2 - 4*a*c))/(2*a)\n",
    "lambda5_neg = (-b -sqrt(b**2 - 4*a*c))/(2*a)\n",
    "simplify(lambda5_pos)\n"
   ]
  },
  {
   "cell_type": "markdown",
   "metadata": {},
   "source": [
    "The social learning part of the recursions is $p_i + D \\phi(p_i)$ = $p_i + D p_i(1-p_i)(2p_i -1)$"
   ]
  },
  {
   "cell_type": "code",
   "execution_count": 171,
   "metadata": {},
   "outputs": [
    {
     "name": "stdout",
     "output_type": "stream",
     "text": [
      "[2.8789983419344543, 0.34734302741142975]\n",
      "[ 9.97  9.98  9.99 10.  ]\n",
      "1.0317304198586994\n",
      "\\eta^{2} \\pi_C^{2} - 4 \\eta \\pi_C^{2} + 2 \\eta \\pi_C + 4 \\pi_C^{2} + 4 \\pi_C + 1\n"
     ]
    }
   ],
   "source": [
    "# test\n",
    "pc_actual = pcfun(0,norm)\n"
   ]
  },
  {
   "cell_type": "code",
   "execution_count": 69,
   "metadata": {},
   "outputs": [
    {
     "name": "stdout",
     "output_type": "stream",
     "text": [
      "-0.843781255294862\n",
      "7.22057129735418\n"
     ]
    },
    {
     "data": {
      "text/latex": [
       "$\\displaystyle 8.42530144431165$"
      ],
      "text/plain": [
       "8.42530144431165"
      ]
     },
     "execution_count": 69,
     "metadata": {},
     "output_type": "execute_result"
    }
   ],
   "source": [
    "a = 8*pc - 16*pc**2\n",
    "b = 8*pc**2 + 2\n",
    "c = 6*pc+1\n",
    "ans_pos = (-b + sqrt(b**2-4*a*c))/(2*a)\n",
    "ans_neg = (-b - sqrt(b**2-4*a*c))/(2*a)\n",
    "simplify(ans_pos)\n",
    "print(ans_pos.subs([(pc,pc_actual)]))\n",
    "print(ans_neg.subs([(pc,pc_actual)]))\n",
    "expr = (eta**2)*a + eta*b + c\n",
    "expr.subs([(eta,1),(pc,pc_actual)])"
   ]
  },
  {
   "cell_type": "code",
   "execution_count": 4,
   "metadata": {},
   "outputs": [
    {
     "data": {
      "text/latex": [
       "$\\displaystyle - \\frac{A_{1} \\Delta_{r_1} u_{3}}{W} - \\frac{A_{2} \\Delta_{r_2} u_{3}}{W} - \\frac{\\Delta_{u_1} \\left(U_{1} u_{3} + U_{3} u_{3} - U_{3}\\right)}{W} - \\frac{\\Delta_{u_2} \\left(U_{2} u_{3} + U_{3} u_{3} - U_{3}\\right)}{W} - \\frac{\\Delta_{x_1} \\left(U_{1} u_{3} + U_{3} u_{3} - U_{3} + W u_{3} + X_{1} u_{3} + X_{2} u_{3} + X_{3} u_{3}\\right)}{W} - \\frac{\\Delta_{x_2} \\left(U_{2} u_{3} + U_{3} u_{3} - U_{3} + W u_{3} + X_{1} u_{3} + X_{2} u_{3} + X_{3} u_{3}\\right)}{W} - \\frac{\\Delta_{x_3} u_{3} \\left(W + X_{1} + X_{2} + X_{3}\\right)}{W} - \\frac{\\Delta_{y_1} \\left(U_{1} u_{3} + U_{3} u_{3} - U_{3} + W u_{3} + Y_{1} u_{3} + Y_{2} u_{3} + Y_{3} u_{3}\\right)}{W} - \\frac{\\Delta_{y_2} \\left(U_{2} u_{3} + U_{3} u_{3} - U_{3} + W u_{3} + Y_{1} u_{3} + Y_{2} u_{3} + Y_{3} u_{3}\\right)}{W} - \\frac{\\Delta_{y_3} u_{3} \\left(W + Y_{1} + Y_{2} + Y_{3}\\right)}{W}$"
      ],
      "text/plain": [
       "-A_1*\\Delta_{r_1}*u_3/W - A_2*\\Delta_{r_2}*u_3/W - \\Delta_{u_1}*(U_1*u_3 + U_3*u_3 - U_3)/W - \\Delta_{u_2}*(U_2*u_3 + U_3*u_3 - U_3)/W - \\Delta_{x_1}*(U_1*u_3 + U_3*u_3 - U_3 + W*u_3 + X_1*u_3 + X_2*u_3 + X_3*u_3)/W - \\Delta_{x_2}*(U_2*u_3 + U_3*u_3 - U_3 + W*u_3 + X_1*u_3 + X_2*u_3 + X_3*u_3)/W - \\Delta_{x_3}*u_3*(W + X_1 + X_2 + X_3)/W - \\Delta_{y_1}*(U_1*u_3 + U_3*u_3 - U_3 + W*u_3 + Y_1*u_3 + Y_2*u_3 + Y_3*u_3)/W - \\Delta_{y_2}*(U_2*u_3 + U_3*u_3 - U_3 + W*u_3 + Y_1*u_3 + Y_2*u_3 + Y_3*u_3)/W - \\Delta_{y_3}*u_3*(W + Y_1 + Y_2 + Y_3)/W"
      ]
     },
     "execution_count": 4,
     "metadata": {},
     "output_type": "execute_result"
    }
   ],
   "source": [
    "Du2p = Add(*[factor(Add(*[argi for argi in expand(Du2p).args if argi.has(elt)])) for elt in [Du1,Du2,Dbu,Dx1,Dx2,Dbx,Dy1,Dy2,Dby,Dr1,Dr2]])\n",
    "Add(*[factor(Add(*[argi for argi in expand(Du3p).args if argi.has(elt)])) for elt in [Du1,Du2,Dbu,Dx1,Dx2,Dbx,Dy1,Dy2,Dby,Dr1,Dr2]])"
   ]
  },
  {
   "cell_type": "code",
   "execution_count": 3,
   "metadata": {},
   "outputs": [
    {
     "data": {
      "text/plain": [
       "[<matplotlib.lines.Line2D at 0x12ac86250>]"
      ]
     },
     "execution_count": 3,
     "metadata": {},
     "output_type": "execute_result"
    },
    {
     "data": {
      "image/png": "[encoded data removed]",
      "text/plain": [
       "<Figure size 432x288 with 1 Axes>"
      ]
     },
     "metadata": {
      "needs_background": "light"
     },
     "output_type": "display_data"
    }
   ],
   "source": [
    "\n",
    "pvec = np.linspace(0,1,1000)\n",
    "Dvec = np.linspace(0,1,6)\n",
    "phip = np.array([phi_fun(p) for p in pvec])\n",
    "df = pd.DataFrame({'p': pvec, 'y1': pvec + Dvec[0]*phip, 'y2': pvec + Dvec[1]*phip,\n",
    "                   'y3': pvec + Dvec[2]*phip, 'y4': pvec + Dvec[3]*phip, 'y5': pvec + Dvec[4]*phip,\n",
    "                   'y6': pvec + Dvec[5]*phip})\n",
    "df2 = pd.DataFrame({'p': 0, 'L1': Dvec[0]*phip, 'L2': Dvec[1]*phip,\n",
    "                   'L3': Dvec[2]*phip, 'L4':Dvec[3]*phip, 'L5': Dvec[4]*phip,\n",
    "                   'L6': Dvec[5]*phip})\n",
    "#plt.plot( 'p', 'y1', data=df, color='blue', linewidth=1)\n",
    "#plt.plot( 'p', 'y2', data=df,  color='green', linewidth=1)\n",
    "#plt.plot( 'p', 'y3', data=df,  color='red', linewidth=1)\n",
    "#plt.plot( 'p', 'y5', data=df,  color='purple', linewidth=1)\n",
    "#plt.plot( 'p', 'y6', data=df,  color='yellow', linewidth=1)\n",
    "plt.subplot(2,1,2)\n",
    "plt.plot( pvec, df2['L1'], color='blue', linewidth=1)\n",
    "#plt.plot( 'p', 'y2', data=df,  color='green', linewidth=1)\n",
    "plt.plot( pvec, 'L3', data=df2,  color='red', linewidth=1)\n",
    "plt.plot( pvec, 'L5', data=df2,  color='purple', linewidth=1)\n",
    "plt.plot( pvec, 'L6', data=df2,  color='yellow', linewidth=1)\n"
   ]
  },
  {
   "cell_type": "markdown",
   "metadata": {},
   "source": [
    "Here are the steps I need to follow:\n",
    "For simplicity, set $\\mu = 0.2$ and $\\sigma = 1$ for all of this.\n",
    "* What are the equilibrium values? How do they depend on initial values?\n",
    "* How are equilibrium values affected by different values of $\\beta/\\gamma$?\n",
    "* For any equilibrium value, what does $C_d$ look like? What does $C_D$ look like?\n",
    "* For the specific cases, what do $C_d$ and $C_D$ look like?\n",
    "\n",
    "So to start off....\n",
    "\n",
    "# Equilibrium values\n",
    "\n"
   ]
  },
  {
   "cell_type": "code",
   "execution_count": 91,
   "metadata": {},
   "outputs": [
    {
     "data": {
      "image/png": "[encoded data removed]",
      "text/latex": [
       "$\\displaystyle K \\left(- D \\left(u_{1} + u_{2}\\right) \\left(- u_{1} - u_{2} + 1\\right) \\left(2 u_{1} + 2 u_{2} - 1\\right) - u_{1} - u_{2} + 1\\right) - K - \\pi_c + 1$"
      ],
      "text/plain": [
       "K⋅(-D⋅(u₁ + u₂)⋅(-u₁ - u₂ + 1)⋅(2⋅u₁ + 2⋅u₂ - 1) - u₁ - u₂ + 1) - K - \\pi_c + \n",
       "1"
      ]
     },
     "metadata": {},
     "output_type": "display_data"
    },
    {
     "name": "stdout",
     "output_type": "stream",
     "text": [
      "Wu_1'=\n",
      "\\pi_c \\left(r_{1} + 1\\right)\n",
      "Wu_2'=\n",
      "\\pi_c \\left(r_{2} + 1\\right)\n",
      "Wbu'=\n",
      "1 - \\pi_c\n",
      "r_1'=\n",
      "\\frac{- \\beta r_{1} u_{1} + r_{1} \\left(\\gamma + 1\\right)}{\\gamma r_{1} + 1}\n",
      "r_2'=\n",
      "\\frac{- \\beta r_{2} u_{2} + r_{2} \\left(\\gamma + 1\\right)}{\\gamma r_{2} + 1}\n",
      "W = \n",
      "\\pi_c \\left(r_{1} + 1\\right) + \\pi_c \\left(r_{2} + 1\\right) - \\pi_c + 1\n"
     ]
    }
   ],
   "source": [
    "from sympy.abc import beta, eta # the only way to get beta to work\n",
    "u1, u2, bu = sp.symbols(' u_1, u_2, \\\\bar{u}', real = True)\n",
    "W, r1, r2 = sp.symbols('W, r_1, r_2 ', real = True)\n",
    "K, pc, pw, D, p = sp.symbols('K, \\pi_c, \\pi_w, D, p', real = True)\n",
    "gamma, eta = sp.symbols('\\gamma, \\eta')\n",
    "alpha = 1+gamma\n",
    "#eta = beta/gamma\n",
    "phi = p*(1-p)*(2*p-1)\n",
    "Wu1p = (1 + r1)*(K*(u1 + D*phi.subs([(p,u1)])) + pc); \n",
    "Wu2p = (1 + r2)*(K*(u2 + D*phi.subs([(p,u2)])) + pc); \n",
    "Wbup = K*(1 - u1 - u2 - D*phi.subs([(p,u1 + u2)])) + 1 - K - pc; \n",
    "r1p = (alpha*r1 - beta*r1*u1)/(1+gamma*r1); \n",
    "r2p = (alpha*r2 - beta*r2*u2)/(1+gamma*r2); \n",
    "W = Wu1p + Wu2p + Wbup\n",
    "display(Wbup)\n",
    "# print the recursions\n",
    "print('Wu_1\\'=')\n",
    "print_latex(Wu1p.subs([(K,0)]))\n",
    "print('Wu_2\\'=')\n",
    "print_latex(Wu2p.subs([(K,0)]))\n",
    "print('Wbu\\'=')\n",
    "print_latex(Wbup.subs([(K,0)]))\n",
    "print('r_1\\'=')\n",
    "print_latex(r1p)\n",
    "print('r_2\\'=')\n",
    "print_latex(r2p)\n",
    "print('W = ')\n",
    "print_latex(W.subs([(K,0)]))\n",
    "#Kfun(2,norm)\n"
   ]
  },
  {
   "cell_type": "code",
   "execution_count": 94,
   "metadata": {},
   "outputs": [
    {
     "data": {
      "image/png": "[encoded data removed]",
      "text/latex": [
       "$\\displaystyle 6 u_{1} u_{2} \\left(u_{1} + u_{2} - 1\\right)$"
      ],
      "text/plain": [
       "6⋅u₁⋅u₂⋅(u₁ + u₂ - 1)"
      ]
     },
     "execution_count": 94,
     "metadata": {},
     "output_type": "execute_result"
    }
   ],
   "source": [
    "simplify(expand(phi.subs([(p,u1)])+phi.subs([(p,u2)])-phi.subs([(p,u1+u2)])))"
   ]
  },
  {
   "cell_type": "code",
   "execution_count": 6,
   "metadata": {},
   "outputs": [],
   "source": [
    "\n",
    "def SolveEq(Wu1p, Wu2p, Wbup, eta_val, Kval, pcval,Dval):\n",
    "    # note that uses sp.symbols\n",
    "    # solves for all 4 combinations of r equilibrium values:\n",
    "        #  (1 - eta u1, 1 - eta u2), (1 - eta u1, 0), (0, 1 - eta u2), (0,0)\n",
    "    # returns solutions, corresponding r values, and corresponding W values\n",
    "    substitutions1 = [(K, Kval), (pc, pcval), (D, Dval), (eta, eta_val)]\n",
    "    substitutions2 =[(K, Kval), (pc, pcval), (D, Dval)]\n",
    "    Wu1p = Wu1p.subs(substitutions1)\n",
    "    \n",
    "    Wu2p = Wu2p.subs(substitutions1)\n",
    "    \n",
    "    Wbup = Wbup.subs(substitutions2)\n",
    "    r1vals = [1 - eta_val*u1, 1 - eta_val*u1, 0, 0]\n",
    "    r2vals = [1 - eta_val*u2, 0,1 - eta_val*u2,0]\n",
    "    #rvals = [(1-eta_val*u1, 1 -eta_val*u2), (1-eta_val*u1,0),(0,1-eta_val*u2),(0,0)]\n",
    "    sub1 = [(r1, 1 - eta_val*u1),(r2,1 - eta_val*u2)]\n",
    "    sub2 = [(r1, 1 - eta_val*u1),(r2,0)]\n",
    "    sub3 = [(r1, 0),(r2,1-eta_val*u2)]\n",
    "    sub4 = [(r1, 0),(r2,0)]\n",
    "    subs_list = [sub1, sub2, sub3, sub4]\n",
    "    Wu1_vec = np.array([Wu1p.subs(subs_list[i]) for i in range(0,4)])\n",
    "    Wu2_vec = np.array([Wu2p.subs(subs_list[i]) for i in range(0,4)])\n",
    "    Wbu_vec = np.array([Wbup.subs(subs_list[i]) for i in range(0,4)])\n",
    "    W_vec = Wu1_vec + Wu2_vec + Wbu_vec \n",
    "    solve_u1_vec = Wu1_vec/W_vec - u1 \n",
    "    solve_u2_vec = Wu2_vec/W_vec - u2\n",
    "    solve_bu_vec = Wbu_vec/W_vec - bu\n",
    "    ans = [sp.solve([solve_u1_vec[i], solve_u2_vec[i], solve_bu_vec[i]],[u1, u2,bu]) for i in range(0,4)]\n",
    "    return(ans, r1vals, r2vals,W_vec)\n",
    "\n",
    "def r1fun(etaval, u1val,j):\n",
    "    if j in [0,1]:\n",
    "        return(1-etaval*u1val)\n",
    "    else:\n",
    "        return(0)\n",
    "def r2fun(etaval, u2val,j):\n",
    "    if j in [0,2]:\n",
    "        return(1-etaval*u2val)\n",
    "    else:\n",
    "        return(0)\n",
    "\n",
    "def GetSolnMat(result_cells, W_vec, j, eta_vec, Kval, pc_val):\n",
    "    #j tells us which r1va r2vall result_cell combo to use\n",
    "    m = len(eta_vec)\n",
    "    n = len(result_cells[j])\n",
    "    u1soln_mat = np.zeros((m,n))\n",
    "    u2soln_mat = np.zeros((m,n))\n",
    "    Wmat = np.zeros((m,n))\n",
    "    Wfun = W_vec[j]\n",
    "    solns = result_cells[j]\n",
    "    for i in range(0,m):\n",
    "        eta_val = eta_vec[i]\n",
    "        substitution = [(eta,eta_val),(pc,pc_val)]\n",
    "        u1soln_mat[i,:] = np.array([uvec_soln[0].subs(substitution) for uvec_soln in solns],\n",
    "                                   dtype = float)\n",
    "        # this speeds things up if both r1=r2 and K = 0 (in which case u1 = u2)\n",
    "        if Kval ==0 and j in [0,3]:\n",
    "            u2soln_mat[i,:] = u1soln_mat[i,:]   \n",
    "        else:\n",
    "            u2soln_mat[i,:] = np.array([uvec_soln[1].subs(substitution) for uvec_soln in solns],\n",
    "                                       dtype = float) \n",
    "        Wmat[i,:] = np.array([Wfun.subs([(eta,eta_val),(pc,pc_val),(u1,u1soln_mat[i,l]),\n",
    "                                         (u2,u2soln_mat[i,l])]) for l in range(0,n)], dtype = float)\n",
    "    r1mat = np.array([[r1fun(eta_vec[i], u1val,j) for u1val in u1soln_mat[i,:]] for i in range(0,m)],\n",
    "                     dtype = float)\n",
    "    r2mat = np.array([[r2fun(eta_vec[i], u1val,j) for u1val in u1soln_mat[i,:]] for i in range(0,m)],\n",
    "                     dtype = float)\n",
    "    # now have to check if have valid values\n",
    "    ValidityMat = IsValid(u1soln_mat, u2soln_mat)\n",
    "    return(u1soln_mat, u2soln_mat, r1mat, r2mat,Wmat, ValidityMat)\n",
    "def IsValid(u1mat, u2mat):\n",
    "    m = u1mat.shape[0]\n",
    "    n = u1mat.shape[1]\n",
    "    to_return = [[np.abs(u1mat[i,j])<=1 and np.abs(u2mat[i,j])<=1 for j in range(0,n)] for i in range(0,m)]\n",
    "    return(to_return)\n",
    "    #return 1 if yes, 0 otherwise for each entry\n",
    "def ExternalStability(u1val, u2val, r1val, r2val, Wval, Kval, Dval, pcval, betaval, gamma = 1):\n",
    "    # returns 1 if stable (with respect to u, r surface), 0 if unstable, and -1 if inconclusive\n",
    "        # (maximum magnitude of eigenvalues is 1)\n",
    "    # does this by computing evals of J_UR given the equilibrium values of u and r and the parameters\n",
    "    \n",
    "    #TO-DO: CHeck and account for invalid u1,u2 vals\n",
    "    uvec = np.array([u1val, u2val, 1 - u1val - u2val])\n",
    "    rvec = np.array([r1val, r2val])\n",
    "    J_UR = Jac_UR(uvec, rvec, Kval, Dval, Wval, betaval, gamma)\n",
    "    evals = np.linalg.eigvals(J_UR)\n",
    "    evals = np.abs(evals)\n",
    "    isUnStable = sum(np.array(evals>1, dtype = int))\n",
    "    if isUnStable<1:# so all eigenvalues are <= 1\n",
    "        isInConclusive = sum(np.array(evals==1, dtype = int))\n",
    "        if isInConclusive<1:\n",
    "            return(1) #stable\n",
    "        else:\n",
    "            return(-1) # inconclusive\n",
    "    else:\n",
    "        return(0) #unstable\n",
    "def ExternalStabilityMat(u1mat,u2mat,IsValidMat,r1mat,r2mat,Wmat,Kval,Dval,pcval,betavec,gamma=1):\n",
    "    # Returns matrix indicating stability of each equilibrium \n",
    "    # remember rows of u1mat correspond to betavec values\n",
    "    # 1 if stable, 0 if unstable, -1 if inconclusive, -5 if the equilibrium value is invalid\n",
    "    m = len(betavec)\n",
    "    n = u1mat.shape[1]\n",
    "    def fun(i,j):\n",
    "        isValid = IsValidMat[i][j]\n",
    "        if isValid:\n",
    "            return(ExternalStability(u1mat[i,j], u2mat[i,j], r1mat[i,j], r2mat[i,j], Wmat[i,j], \n",
    "                                     Kval, Dval, pcval, betavec[i]))\n",
    "        else:\n",
    "            return(-5)\n",
    "    to_return = np.array([[  fun(i,j) for j in range(0,n)] for i in range(0,m)],\n",
    "                         dtype = int)\n",
    "\n",
    "    return(to_return)\n",
    "def PlotEquilibria(eta_vec,u1mat,r1val,r2val):\n",
    "    numcols = u1mat.shape[1]\n",
    "    fig = plt.figure(figsize = (6,6))\n",
    "    plt.plot(eta_vec,u1mat[:,0], 'b-')\n",
    "    if numcols>1:\n",
    "        plt.plot(eta_vec,u1mat[:,1], 'r-')\n",
    "    plt.ylim([0,1])\n",
    "    display(r1val,r2val)\n",
    "init_printing()"
   ]
  },
  {
   "cell_type": "code",
   "execution_count": 7,
   "metadata": {},
   "outputs": [
    {
     "data": {
      "text/plain": [
       "1"
      ]
     },
     "execution_count": 7,
     "metadata": {},
     "output_type": "execute_result"
    }
   ],
   "source": [
    "evals = np.array([0.5,1,-0.7])\n",
    "evals = np.abs(evals)\n",
    "evals\n",
    "isUnStable = sum(np.array(evals>1, dtype = int))\n",
    "isInConclusive = sum(np.array(evals==1, dtype = int))\n",
    "isInConclusive"
   ]
  },
  {
   "cell_type": "markdown",
   "metadata": {},
   "source": [
    "## Equilibria when K = 0"
   ]
  },
  {
   "cell_type": "code",
   "execution_count": 8,
   "metadata": {},
   "outputs": [],
   "source": [
    "# Case 1: K = 0\n",
    "eta_val = eta\n",
    "Kval = 0\n",
    "pcval = pc\n",
    "result, r1vals, r2vals, W_vec = SolveEq(Wu1p, Wu2p, Wbup, eta_val, Kval, pc, D)\n",
    "# the first entries are cells. for whatever reason, the fourth solution (corresponding to r1 = r2 = 0) is a sequence\n",
    "# for result: solutions correspond to different r values. see r1vals, r2vals above\n",
    "result_cells = result[:3]\n",
    "uvec_nofood = (pc/(pc+1),pc/(pc+1),(1-pc)/(pc+1))\n",
    "result_cells.append([uvec_nofood])\n"
   ]
  },
  {
   "cell_type": "code",
   "execution_count": 9,
   "metadata": {},
   "outputs": [],
   "source": [
    "# now plot for each r combo\n",
    "\n",
    "#parameters\n",
    "pc_actual = pcfun(0,norm)\n",
    "beta_vec = np.arange(0.01,1,0.01) # beta defined to be less than 1\n",
    "gamma = 1\n",
    "eta_vec = beta_vec/gamma\n",
    "Dval = 1 # the value of this doesn't matter"
   ]
  },
  {
   "cell_type": "code",
   "execution_count": 10,
   "metadata": {},
   "outputs": [],
   "source": [
    "j = 0\n",
    "# should throw out columns associated with uvals >1 or <0\n",
    "u1mat, u2mat,r1mat, r2mat, Wmat,IsValidMat = GetSolnMat(result_cells, W_vec, j, eta_vec, Kval, pc_actual)\n",
    "#PlotEquilibria(eta_vec,u1mat,r1vals[j],r2vals[j])\n",
    "stabmat = ExternalStabilityMat(u1mat,u2mat,IsValidMat,r1mat,r2mat,Wmat,Kval,Dval,pc_actual,beta_vec)\n"
   ]
  },
  {
   "cell_type": "code",
   "execution_count": 11,
   "metadata": {},
   "outputs": [
    {
     "data": {
      "image/png": "[encoded data removed]",
      "text/plain": [
       "<Figure size 648x576 with 4 Axes>"
      ]
     },
     "metadata": {
      "needs_background": "light"
     },
     "output_type": "display_data"
    }
   ],
   "source": [
    "fig, axes = plt.subplots(2,2,figsize = (9,8), sharex = True, sharey = True)\n",
    "axes = [ax for sublist in axes for ax in sublist]\n",
    "mpl.rc('text', usetex = True)\n",
    "titles = ['r = (1 - )']\n",
    "for j in range(0,4):\n",
    "    ax = axes[j]\n",
    "    u1mat, u2mat, r1mat, r2mat, Wmat, IsValidMat = GetSolnMat(result_cells, W_vec, j, eta_vec, Kval, pc_actual)\n",
    "    stabmat = ExternalStabilityMat(u1mat,u2mat,IsValidMat, r1mat,r2mat,Wmat,Kval,Dval,pc_actual,beta_vec)\n",
    "    n = u1mat.shape[1]\n",
    "    for i in range(0,n):\n",
    "        \n",
    "        #plot this u value\n",
    "        u1vals = u1mat[:,i]\n",
    "        stabvals = stabmat[:,i]\n",
    "        ax.plot(eta_vec[stabvals==1], u1vals[stabvals==1],'b')\n",
    "        ax.plot(eta_vec[stabvals==0], u1vals[stabvals==0],'r')#if unstable, then colored red\n",
    "        ax.plot(eta_vec[stabvals==-1], u1vals[stabvals==-1],'g')#if unstable, then colored red\n",
    "#ax.set_ylim(0,1) \n",
    "fs = 18\n",
    "axes[2].set_xlabel(r'$\\eta$', fontsize = fs)\n",
    "axes[3].set_xlabel(r'$\\eta$', fontsize = fs)\n",
    "axes[0].set_ylabel(r'$\\hat{u_1}$', fontsize = fs)\n",
    "axes[2].set_ylabel(r'$\\hat{u_1}$', fontsize = fs)\n",
    "axes[0].set_title(r'$(\\hat{r_1},\\hat{r_2}) = (1 - \\eta \\hat{u_1}, 1 - \\eta \\hat{u_2})$', fontsize = fs)\n",
    "axes[1].set_title(r'$(\\hat{r_1},\\hat{r_2}) = (1 - \\eta \\hat{u_1},0)$', fontsize = fs)\n",
    "axes[2].set_title(r'$(\\hat{r_1},\\hat{r_2}) = (0,1 - \\eta \\hat{u_2})$', fontsize = fs)\n",
    "axes[3].set_title(r'$(\\hat{r_1},\\hat{r_2}) = (0,0)$', fontsize = fs)\n",
    "# ax1.plot(eta_vec,u1mat[:,0])\n",
    "fname = 'Eq_K0_rcases'\n",
    "plt.savefig(fname)"
   ]
  },
  {
   "cell_type": "raw",
   "metadata": {},
   "source": [
    "fig = plt.figure(figsize=(8, 5))\n",
    "\n",
    "plt.plot(eta_vec, u1eq_vec, color = 'blue')\n",
    "plt.plot(eta_vec, u1eq_vec2, color = 'red')\n",
    "plt.ylim([0,1])\n",
    "plt.xlabel('$\\eta$', fontsize = 20)\n",
    "plt.ylabel('Equilibrium value of $u_1=u_2$', fontsize = 20)\n",
    "plt.title('Equilibrium value of $u_1$ and \\n$u_2$ for $K = 0$, $\\mu = 0.2$, $\\sigma = 1$')\n",
    "#plot(to_solve.subs([(pc, pc_actual)]), xlim = [0,15], ylim = [0,0.5])\n",
    "print('Note that $\\hat{u_1}$ goes to 0 is')"
   ]
  },
  {
   "cell_type": "markdown",
   "metadata": {},
   "source": [
    "## case K = 1, D = 0"
   ]
  },
  {
   "cell_type": "code",
   "execution_count": 88,
   "metadata": {},
   "outputs": [],
   "source": [
    "eta_val = eta\n",
    "Kval = 1\n",
    "Dval = 0\n",
    "pcval = 0\n",
    "result, r1vals, r2vals,W_vec = SolveEq(Wu1p, Wu2p, Wbup, eta_val, Kval, pcval, Dval)\n",
    "result[1]\n",
    "\n",
    "#TO_DO: append to end of data frame all answers\n",
    "n = len(result)\n",
    "n1 = len(result[0])\n",
    "eq1_u1vals = [expr[0] for expr in result[0]]\n",
    "eq1_u2vals = [expr[1] for expr in result[0]]\n",
    "eq1_buvals = [expr[2] for expr in result[0]]\n",
    "eq1_r1vals = [r1vals[0].subs([(u1,eq1_u1vals[i]), (u2,eq1_u2vals[i])]) for i in range(0,n1)]\n",
    "eq1_r2vals = [r2vals[0].subs([(u1,eq1_u1vals[i]), (u2,eq1_u2vals[i])]) for i in range(0,n1)]\n",
    "eq1_Wvals = [W_vec[0].subs([(r1,eq1_r1vals[i]),(r2,eq1_r2vals[i]),(u1,eq1_u1vals[i]),(u2,eq1_u2vals[i])]) for i in range(0,n1)]\n",
    "\n",
    "\n",
    "\n",
    "# eq1_u1 = result[0][0]\n",
    "# eq2_u1 = result[1][0]\n",
    "# eq3_u1 = result[2][0]\n",
    "# eq4_u1 = result[3][0]\n",
    "# eq5_u1 = result[4][0]\n",
    "# eq6_u1 = result[5][0]\n",
    "# eq7_u1 = result[6][0]\n",
    "\n",
    "# eq1_u2 = result[0][1]\n",
    "# eq2_u2 = result[1][1]\n",
    "# eq3_u2 = result[2][1]\n",
    "# eq4_u2 = result[3][1]\n",
    "# eq5_u2 = result[4][1]\n",
    "# eq6_u2 = result[5][1]\n",
    "# eq7_u2 = result[6][1]\n",
    "# Wu1\n",
    "# result[0]\n"
   ]
  },
  {
   "cell_type": "code",
   "execution_count": 89,
   "metadata": {},
   "outputs": [
    {
     "data": {
      "image/png": "[encoded data removed]",
      "text/latex": [
       "$\\displaystyle \\left[ 1, \\  2 - \\eta, \\  1, \\  2 - \\frac{\\eta}{2}, \\  2 - \\eta, \\  1, \\  1\\right]$"
      ],
      "text/plain": [
       "⎡                    \\eta                ⎤\n",
       "⎢1, 2 - \\eta, 1, 2 - ────, 2 - \\eta, 1, 1⎥\n",
       "⎣                     2                  ⎦"
      ]
     },
     "execution_count": 89,
     "metadata": {},
     "output_type": "execute_result"
    }
   ],
   "source": [
    "eq1_Wvals"
   ]
  },
  {
   "cell_type": "code",
   "execution_count": 27,
   "metadata": {},
   "outputs": [],
   "source": [
    "# # get limits\n",
    "# # 0 limit\n",
    "# for i in range(0,4):\n",
    "#     eq = result[i]\n",
    "#     print('for u%d = '%(i+1))\n",
    "#     display(eq[0])\n",
    "#     print('the limit as eta goes to 0 is')\n",
    "#     display(sp.limit(eq[0], eta, 0))\n",
    "# # big eta limit\n",
    "# for i in range(0,4):\n",
    "#     eq = result[i]\n",
    "#     print('for u%d = '%(i+1))\n",
    "#     display(eq[0])\n",
    "#     print('the limit as eta goes to infinity is')\n",
    "#     display(sp.limit(eq[0], eta, oo))\n"
   ]
  },
  {
   "cell_type": "code",
   "execution_count": 22,
   "metadata": {},
   "outputs": [],
   "source": [
    "\n",
    "u1eq1_vec = [eq1_u1.subs([(eta, eta_val),(pc, pcval)]) for eta_val in eta_vec]\n",
    "u1eq2_vec = [eq2_u1.subs([(eta, eta_val),(pc, pcval)]) for eta_val in eta_vec]\n",
    "u1eq3_vec = [eq3_u1.subs([(eta, eta_val),(pc, pcval)]) for eta_val in eta_vec]\n",
    "u1eq4_vec = [eq4_u1.subs([(eta, eta_val),(pc, pcval)]) for eta_val in eta_vec]\n",
    "u1eq5_vec = [eq5_u1.subs([(eta, eta_val),(pc, pcval)]) for eta_val in eta_vec]\n",
    "u1eq6_vec = [eq6_u1.subs([(eta, eta_val),(pc, pcval)]) for eta_val in eta_vec]\n",
    "u1eq7_vec = [eq7_u1.subs([(eta, eta_val),(pc, pcval)]) for eta_val in eta_vec]\n",
    "\n",
    "u2eq1_vec = [eq1_u2.subs([(eta, eta_val),(pc, pcval)]) for eta_val in eta_vec]\n",
    "u2eq2_vec = [eq2_u2.subs([(eta, eta_val),(pc, pcval)]) for eta_val in eta_vec]\n",
    "u2eq3_vec = [eq3_u2.subs([(eta, eta_val),(pc, pcval)]) for eta_val in eta_vec]\n",
    "u2eq4_vec = [eq4_u2.subs([(eta, eta_val),(pc, pcval)]) for eta_val in eta_vec]\n",
    "u2eq5_vec = [eq5_u2.subs([(eta, eta_val),(pc, pcval)]) for eta_val in eta_vec]\n",
    "u2eq6_vec = [eq6_u2.subs([(eta, eta_val),(pc, pcval)]) for eta_val in eta_vec]\n",
    "u2eq7_vec = [eq7_u2.subs([(eta, eta_val),(pc, pcval)]) for eta_val in eta_vec]\n"
   ]
  },
  {
   "cell_type": "code",
   "execution_count": 26,
   "metadata": {},
   "outputs": [
    {
     "name": "stdout",
     "output_type": "stream",
     "text": [
      "Note that $\\hat{u_1}$ goes to 0 is\n"
     ]
    },
    {
     "data": {
      "image/png": "[encoded data removed]",
      "text/plain": [
       "<Figure size 576x360 with 1 Axes>"
      ]
     },
     "metadata": {
      "needs_background": "light"
     },
     "output_type": "display_data"
    }
   ],
   "source": [
    "fig = plt.figure(figsize=(8, 5))\n",
    "\n",
    "plt.plot(eta_vec, u1eq1_vec, color = 'blue')\n",
    "plt.plot(eta_vec, u1eq2_vec, color = 'red') # this should be 1/2 but it's not showing as 1/2\n",
    "plt.plot(eta_vec, u1eq3_vec, color = 'cyan')\n",
    "plt.plot(eta_vec, u1eq4_vec, color = 'black')\n",
    "plt.plot(eta_vec, u1eq5_vec, color = 'pink')\n",
    "plt.plot(eta_vec, u1eq6_vec, color = 'green')\n",
    "plt.plot(eta_vec, u1eq6_vec, color = 'orange')\n",
    "\n",
    "plt.ylim([-0.5,1])\n",
    "plt.xlabel('$\\eta$', fontsize = 20)\n",
    "plt.ylabel('Equilibrium value of $u_1$', fontsize = 20)\n",
    "plt.title('Equilibrium value of $u_1$ for \\n$K = 1$, $D = 0$, $\\mu = 0.2$, $\\sigma = 1$')\n",
    "#plot(to_solve.subs([(pc, pc_actual)]), xlim = [0,15], ylim = [0,0.5])\n",
    "print('Note that $\\hat{u_1}$ goes to 0 is')"
   ]
  },
  {
   "cell_type": "code",
   "execution_count": 29,
   "metadata": {},
   "outputs": [
    {
     "data": {
      "text/plain": [
       "Text(0.5, 1.0, 'Equilibrium value of $u_2$ for \\n$K = 1$, $D = 0$, $\\\\mu = 0.2$, $\\\\sigma = 1$')"
      ]
     },
     "execution_count": 29,
     "metadata": {},
     "output_type": "execute_result"
    },
    {
     "data": {
      "image/png": "[encoded data removed]",
      "text/plain": [
       "<Figure size 576x360 with 1 Axes>"
      ]
     },
     "metadata": {
      "needs_background": "light"
     },
     "output_type": "display_data"
    }
   ],
   "source": [
    "fig = plt.figure(figsize=(8, 5))\n",
    "\n",
    "plt.plot(eta_vec, u2eq1_vec, color = 'blue')\n",
    "plt.plot(eta_vec, u2eq2_vec, color = 'red')\n",
    "plt.plot(eta_vec, u2eq3_vec, color = 'cyan')\n",
    "plt.plot(eta_vec, u2eq4_vec, color = 'black')\n",
    "plt.ylim([-0.5,1])\n",
    "plt.xlabel('$\\eta$', fontsize = 20)\n",
    "plt.ylabel('Equilibrium value of $u_2$', fontsize = 20)\n",
    "plt.title('Equilibrium value of $u_2$ for \\n$K = 1$, $D = 0$, $\\mu = 0.2$, $\\sigma = 1$')\n",
    "#plot(to_solve.subs([(pc, pc_actual)]), xlim = [0,15], ylim = [0,0.5])\n"
   ]
  },
  {
   "cell_type": "markdown",
   "metadata": {},
   "source": [
    "## Case K = 1, Varying D\n",
    "\n",
    "Need to think how to approach\n",
    "Best to choose about 3 D values\n",
    "D = 0.33, 0.66, 1.\n",
    "\n",
    "Then not only need to varry u values, but also r1 and r2\n",
    "This is harder to do because it has to be done numerically"
   ]
  },
  {
   "cell_type": "code",
   "execution_count": 53,
   "metadata": {},
   "outputs": [],
   "source": [
    "#initial values determined by u1, u2, baru, r1, r2\n",
    "def GenerateInitVals(u_increment, r_increment):\n",
    "    init = 0\n",
    "    last = 1 + u_increment \n",
    "    \n",
    "    u1starts = np.arange(init,last,u_increment)\n",
    "    u2starts = np.arange(init,last,u_increment)\n",
    "    n = len(u1starts)\n",
    "    numUs = int(n*(n+1)/2)\n",
    "    initval_u_Mat = np.zeros((numUs,3), dtype loat)\n",
    "\n",
    "    j = 0\n",
    "    for i in range(0,n):\n",
    "        for k in range(0,n):\n",
    "            u10 = u1starts[i]\n",
    "            u20 = u2starts[k]\n",
    "            if u10 + u20 <=1:\n",
    "                initval_u_Mat[j,[0,1]]= np.array([u10, u20])\n",
    "                j = j + 1\n",
    "    initval_u_Mat[:,2]= 1 - initval_u_Mat[:,0]- initval_u_Mat[:,1]\n",
    "\n",
    "    r1starts = np.arange(0,1+r_increment,r_increment)\n",
    "    r2starts = np.arange(0,1+r_increment,r_increment)\n",
    "    m = int(len(r1starts))\n",
    "    initval_r_Mat = np.zeros((m**2,2), dtype = float)\n",
    "    j = 0\n",
    "    for i in range(0,m):\n",
    "        for k in range(0,m):\n",
    "            initval_r_Mat[j,:] = np.array([r1starts[i], r2starts[k]])\n",
    "            j = j + 1\n",
    "\n",
    "    xvec = np.array([0,0,0])\n",
    "    yvec = np.array([0,0,0])\n",
    "    return(initval_u_Mat, initval_r_Mat, xvec, yvec)\n",
    "#NextGen(initval_Mat[i,:],xvec,yvec,rvec, Dval, K, pc)\n",
    "def GetEquilibria(initval_u_Mat, initval_r_Mat, xvec0, yvec0, Kval, pcval, Dval, betaval, gammaval=1):\n",
    "    # returns data frame of u_equilibria\n",
    "\n",
    "\n",
    "    Kval = Kfun(d,norm)\n",
    "    pcval = pcfun(d,norm)\n",
    "    deltas = [0,0,0]\n",
    "    tsteps = 1000\n",
    "    #print(np.shape(initval_u_Mat))\n",
    "    numuvecs = np.shape(initval_u_Mat)[0]\n",
    "    numrvecs = np.shape(initval_r_Mat)[0]\n",
    "    uEqMat = np.zeros((numuvecs*numrvecs,5))\n",
    "    k = 0\n",
    "    #print(numrvecs)\n",
    "    for i in range(0,numrvecs):\n",
    "        for j in range(0, numuvecs):\n",
    "            uvec0 = initval_u_Mat[j,:]\n",
    "            rvec0 = initval_r_Mat[i,:]\n",
    "            uvec1, xvec1, yvec1, rvec1, W = NextGen(uvec0, xvec0, yvec0, rvec0, Dval, Kval, pcval)\n",
    "            uvec,xvec,yvec,rvec,W,t,reached_eq = FindEquilibrium(uvec1,xvec1,yvec1,rvec1,Kval,pcval,\n",
    "                                                                 Dval,tsteps,deltas,betaval, gammaval)\n",
    "            if reached_eq==1:\n",
    "                uEqMat[k,0:3] = uvec\n",
    "                uEqMat[k,3] = W\n",
    "                uEqMat[k,4] = reached_eq\n",
    "            k = k+1\n",
    "    df1 = pd.DataFrame(uEqMat, columns = ['u1', 'u2', 'bu', 'W', 'Reached_Eq'])\n",
    "    df1 = df1.round(5)\n",
    "    df1 = df1.dropna(axis = 0, how = 'all')\n",
    "    df1 = df1.drop_duplicates()\n",
    "    return(df1)\n",
    "def CheckStability(df, beta, gamma = 1, deltas = [0,0,0]):\n",
    "    # go through each row of df\n",
    "    eta = beta/gamma\n",
    "    numrows = len(df.index)\n",
    "    ifStableVec = np.zeros(numrows)\n",
    "    for row in df.iterrows():\n",
    "        uvec = np.array(row)\n",
    "        rvec = 1 - eta*uvec[0:2]\n",
    "        Jac = Jac_UR(uvec, rvec, Kval, Dval, Wval, deltas, beta, gamma)\n",
    "    return(ifStableVec)\n",
    "    \n",
    "    "
   ]
  },
  {
   "cell_type": "markdown",
   "metadata": {},
   "source": [
    "Now need a good way to generate a bunch of u equilibria values and represent their stability (in the $J_{UR}$ matrix). Do this by setting up functions, then call the function for different values of D and $\\beta$. For simplicity, set $\\gamma = 1$.."
   ]
  },
  {
   "cell_type": "code",
   "execution_count": 51,
   "metadata": {},
   "outputs": [],
   "source": [
    "#params:\n",
    "betaval = 0.7\n",
    "Dval_vec = np.arange(0.25,1.25,0.25)\n",
    "u_increment = r_increment = float(1)/8\n",
    "d = 100000 # K = 1\n",
    "mu = 0.2; sigma = 1;\n",
    "norm = scs.norm(mu,sigma**2)\n",
    "Kval = Kfun(d,norm); pcval = pcfun(d,norm)\n",
    "Dval = 0.5\n",
    "initval_u_Mat, initval_r_Mat, xvec0, yvec0 = GenerateInitVals(u_increment, r_increment)\n",
    "#loop over Dvalvec and make data frame with added column for Dval\n",
    "Equilibria = GetEquilibria(initval_u_Mat, initval_r_Mat, xvec0, yvec0, Kval, pcval, Dval, betaval)"
   ]
  },
  {
   "cell_type": "code",
   "execution_count": 52,
   "metadata": {},
   "outputs": [
    {
     "data": {
      "text/html": [
       "<div>\n",
       "<style scoped>\n",
       "    .dataframe tbody tr th:only-of-type {\n",
       "        vertical-align: middle;\n",
       "    }\n",
       "\n",
       "    .dataframe tbody tr th {\n",
       "        vertical-align: top;\n",
       "    }\n",
       "\n",
       "    .dataframe thead th {\n",
       "        text-align: right;\n",
       "    }\n",
       "</style>\n",
       "<table border=\"1\" class=\"dataframe\">\n",
       "  <thead>\n",
       "    <tr style=\"text-align: right;\">\n",
       "      <th></th>\n",
       "      <th>u1</th>\n",
       "      <th>u2</th>\n",
       "      <th>bu</th>\n",
       "      <th>W</th>\n",
       "      <th>Reached_Eq</th>\n",
       "    </tr>\n",
       "  </thead>\n",
       "  <tbody>\n",
       "    <tr>\n",
       "      <th>0</th>\n",
       "      <td>0.0</td>\n",
       "      <td>0.0</td>\n",
       "      <td>1.0</td>\n",
       "      <td>1.00</td>\n",
       "      <td>1.0</td>\n",
       "    </tr>\n",
       "    <tr>\n",
       "      <th>4</th>\n",
       "      <td>0.0</td>\n",
       "      <td>0.5</td>\n",
       "      <td>0.5</td>\n",
       "      <td>1.00</td>\n",
       "      <td>1.0</td>\n",
       "    </tr>\n",
       "    <tr>\n",
       "      <th>5</th>\n",
       "      <td>0.0</td>\n",
       "      <td>1.0</td>\n",
       "      <td>0.0</td>\n",
       "      <td>1.00</td>\n",
       "      <td>1.0</td>\n",
       "    </tr>\n",
       "    <tr>\n",
       "      <th>26</th>\n",
       "      <td>0.5</td>\n",
       "      <td>0.0</td>\n",
       "      <td>0.5</td>\n",
       "      <td>1.00</td>\n",
       "      <td>1.0</td>\n",
       "    </tr>\n",
       "    <tr>\n",
       "      <th>27</th>\n",
       "      <td>0.5</td>\n",
       "      <td>0.5</td>\n",
       "      <td>0.0</td>\n",
       "      <td>1.00</td>\n",
       "      <td>1.0</td>\n",
       "    </tr>\n",
       "    <tr>\n",
       "      <th>31</th>\n",
       "      <td>1.0</td>\n",
       "      <td>0.0</td>\n",
       "      <td>0.0</td>\n",
       "      <td>1.00</td>\n",
       "      <td>1.0</td>\n",
       "    </tr>\n",
       "    <tr>\n",
       "      <th>46</th>\n",
       "      <td>0.0</td>\n",
       "      <td>1.0</td>\n",
       "      <td>0.0</td>\n",
       "      <td>1.30</td>\n",
       "      <td>1.0</td>\n",
       "    </tr>\n",
       "    <tr>\n",
       "      <th>414</th>\n",
       "      <td>1.0</td>\n",
       "      <td>0.0</td>\n",
       "      <td>0.0</td>\n",
       "      <td>1.30</td>\n",
       "      <td>1.0</td>\n",
       "    </tr>\n",
       "    <tr>\n",
       "      <th>460</th>\n",
       "      <td>0.5</td>\n",
       "      <td>0.5</td>\n",
       "      <td>0.0</td>\n",
       "      <td>1.65</td>\n",
       "      <td>1.0</td>\n",
       "    </tr>\n",
       "  </tbody>\n",
       "</table>\n",
       "</div>"
      ],
      "text/plain": [
       "      u1   u2   bu     W  Reached_Eq\n",
       "0    0.0  0.0  1.0  1.00         1.0\n",
       "4    0.0  0.5  0.5  1.00         1.0\n",
       "5    0.0  1.0  0.0  1.00         1.0\n",
       "26   0.5  0.0  0.5  1.00         1.0\n",
       "27   0.5  0.5  0.0  1.00         1.0\n",
       "31   1.0  0.0  0.0  1.00         1.0\n",
       "46   0.0  1.0  0.0  1.30         1.0\n",
       "414  1.0  0.0  0.0  1.30         1.0\n",
       "460  0.5  0.5  0.0  1.65         1.0"
      ]
     },
     "execution_count": 52,
     "metadata": {},
     "output_type": "execute_result"
    }
   ],
   "source": [
    "#Equilibria['U Stable'] = CheckStability(Equilibria,2)\n",
    "Equilibria"
   ]
  },
  {
   "cell_type": "markdown",
   "metadata": {},
   "source": [
    "# Case K = 0\n",
    "\n",
    "First find conditions under which aB invades. We do not test whether Ab invades because when $K = 0$, there is no difference between phenogenotypes $AB$ and $Ab$. The equilibria are\n",
    "$\\hat{W} = 1 + \\pi_C(1 + \\hat{r_1} + \\hat{r_2}), \\hat{r_i} = 1 - \\eta \\hat{u_i}, \\hat{u_i} = \\frac{2 \\pi_C}{\\hat{W} + \\eta \\pi_C},$ and $\\hat{\\bar{u}} = 1 - \\frac{4 \\pi_C}{\\hat{W} + \\eta \\pi_C}$. It's important to thus note that $0 \\hat{u_1} = \\hat{u_2} \\leq 1/2$. Note that $\\lim_{\\mu \\to - \\infty}\\hat{u_1}= 0$ and $\\lim_{\\mu \\to + \\infty}\\hat{u_1}= 1/2$. \n",
    "\n",
    "Furthermore, $\\delta_K \\approx 2d f(0)$ and $\\delta_{\\pi_C} \\approx -d f(0)$ for $d$ small and $f(z)$ the pdf of the distribution $\\mathcal{N}(\\mu, \\sigma^2)$. \n",
    "\n",
    "With these conditions, and with $\\eta = 1$, and after doing some algebra\n",
    "\n",
    "$$\n",
    "\\lambda_x = 1 + df(0) \\frac{C_d}{\\hat{W}}\n",
    "$$\n",
    "for\n",
    "$$\n",
    "C_d = -8 D \\hat{u_1}^4 + 44 D \\hat{u_1}^3 - 28D\\hat{u_1}^2 + 4 D\\hat{u_1} + 4 \\hat{u_1}^2 -6\\hat{u_1} + 1\n",
    "$$\n",
    "and so to be unstable, we need\n",
    "* $C_d  \\geq 0$ and $f(0) \\geq 0$\n",
    "* or $C_d < 0$ and $f(0) < 0$\n",
    "\n",
    "However, the second option is not possible because $f(z) > 0\\ \\forall\\ z$, so we need to check when $C_d \\geq 0$. This is true whenever $D = 0$ or when $D > 0$ and $0 \\leq \\hat{u_1} \\leq \\frac{1}{2}(5 - \\sqrt{21}) \\approx 0.209$.\n",
    "\n",
    "The value $u_1$ depends on $\\mu$ and $\\sigma$, as shown in the figure below. However $\\hat{u_1}> \\frac{1}{2}(5 - \\sqrt{21})$ for all $\\mu \\geq 0$. Thus as long as an organism is more likely to learn independently correctly than incorrectly, social learning does not invade."
   ]
  },
  {
   "cell_type": "code",
   "execution_count": 27,
   "metadata": {},
   "outputs": [
    {
     "data": {
      "text/plain": [
       "(0, 0.5)"
      ]
     },
     "execution_count": 27,
     "metadata": {},
     "output_type": "execute_result"
    },
    {
     "data": {
      "image/png": "[encoded data removed]",
      "text/plain": [
       "<Figure size 360x360 with 1 Axes>"
      ]
     },
     "metadata": {
      "needs_background": "light"
     },
     "output_type": "display_data"
    }
   ],
   "source": [
    "# case K = 0, D is anything?\n",
    "\n",
    "d = 0\n",
    "mu_vec = np.arange(-1,2,0.05)\n",
    "sigma = 1\n",
    "K = 0; \n",
    "sigma_vec = np.arange(0.5,2.5,0.5)\n",
    "n = len(mu_vec)\n",
    "m = len(sigma_vec)\n",
    "pc_mat = np.array([[pcfun(d, scs.norm(mu,sigma**2)) for sigma in sigma_vec] for mu in mu_vec])\n",
    "#mu determines rows, sigma columns\n",
    "\n",
    "beta = gamma = 1 #for simplicity\n",
    "eta = beta/gamma\n",
    "\n",
    "\n",
    "def ueq_K0(pc):\n",
    "    rad = np.sqrt(8*pc +1)\n",
    "    u = 1 + (1-rad)/(4*pc)\n",
    "\n",
    "    return(u)\n",
    "    \n",
    "\n",
    "uvecMat = np.array([[ueq_K0(pc_mat[i,j]) for j in range(0,m)] for i in range(0,n)])\n",
    "\n",
    "fig, ax = plt.subplots(figsize=(5, 5))\n",
    "ax.plot(mu_vec,uvecMat[:,0], 'blue') #sigma = 0.5\n",
    "ax.plot(mu_vec,uvecMat[:,1], 'red') # sigma = 1\n",
    "ax.plot(mu_vec, uvecMat[:,2], 'black') # sigma = 1.5\n",
    "ax.plot(mu_vec, uvecMat[:,3], 'cyan') # sigma = 2\n",
    "#plt.plot(mu_vec,uvecMat)\n",
    "plt.xlabel(\"$\\mu$\")\n",
    "plt.ylabel(\"$\\hat{u_1}$\")\n",
    "plt.ylim([0,0.5])\n",
    "\n",
    "# plt.title(\"$\\hat{u_1}$ for $K = 0$, varying $\\mu$\")\n"
   ]
  },
  {
   "cell_type": "markdown",
   "metadata": {},
   "source": [
    "Above are values of $\\hat{u_1}$ in relation to $\\mu$, for different values of $\\sigma$. The color correspondences are blue: $\\sigma = 0.5$, red: $\\sigma = 1$, black: $\\sigma = 1.5$, and cyan: $\\sigma = 2$. \n",
    "    "
   ]
  },
  {
   "cell_type": "markdown",
   "metadata": {},
   "source": [
    "So the $u$ equilibria are stable."
   ]
  },
  {
   "cell_type": "markdown",
   "metadata": {},
   "source": [
    "# Check K = 1, D = 0\n",
    "\n",
    "The equilibrium values are:\n",
    "* (0,0,1) - which is realistic but it would mean that the population would die out, and we can expect that any mutant would invade because there is no resource competition\n",
    "* (0,1,0) - I don't know if this  be an equilibrium because it means that $r_2 = 0$, so in the next generation there would be no way to learn to find that food\n",
    "* $(\\frac{1}{2}, \\frac{1}{2}, 0)$ - realistic\n",
    "* (1,0,0) - unrealistic for same reason as (0,1,0)\n",
    "\n",
    "For all four equilibria, $\\lambda_y = 1$ so $y$ could invade. However, we have to consider if this could actually happen."
   ]
  },
  {
   "cell_type": "code",
   "execution_count": 28,
   "metadata": {},
   "outputs": [],
   "source": [
    "\n",
    "def NewEq_Perturb(uvec,xvec,yvec,rvec,D,K,pc,deltas,perturbX,perturbY,gamma=1, beta=1):\n",
    "    # Deltas are [dD, dK, dpc]\n",
    "    # given uvec, rvec from time step t-1 (before perturb)\n",
    "    # perturb u,x,y to get time step t\n",
    "    #find new equilibrium\n",
    "    \n",
    "    # generation t\n",
    "    xvec = np.array(xvec)+perturbX\n",
    "    uvec = np.array(uvec) - perturbX - perturbY # mutations happen from AB individuals\n",
    "    yvec = np.array(yvec)+perturbY\n",
    "    # rvec is calculated based on previous gen, before perturbation #rvec = [ri_fun(rvec[i],pvec[i]) for i in range(0,2)]\n",
    "    # generation t+1:\n",
    "    uvec, xvec, yvec, rvec,W = NextGen(uvec,xvec,yvec,rvec, D, K,pc,deltas)  \n",
    "    tsteps = 1000\n",
    "    uvec,xvec,yvec,rvec,W,t,reached_eq = FindEquilibrium(uvec,xvec,yvec,rvec,W,K,pc,D,tsteps,deltas)\n",
    "    return(uvec,xvec,yvec,rvec,W,t,reached_eq)\n",
    "    \n",
    "def Change_in_equilibria(uvec1,xvec1,yvec1,rvec1,D,K,pc,Deltas,perturbX,perturbY):\n",
    "    uvec,xvec,yvec,rvec,W,t,reached_eq = NewEq_Perturb(uvec1,xvec1,yvec1,rvec1,\n",
    "                                                       D,K,pc,Deltas,perturbX,perturbY)\n",
    "    perturbUfinal = sum(uvec) - sum(uvec1)\n",
    "    perturbYfinal = sum(yvec)-sum(yvec1)\n",
    "    perturbXfinal = sum(xvec) - sum(xvec1)\n",
    "    return(perturbUfinal, perturbYfinal, perturbXfinal, reached_eq)\n",
    "\n",
    "\n",
    "def req(uvec, beta=1, gamma=1):\n",
    "    rvec = 1 - (beta/gamma)*uvec[0:2]\n",
    "    return(rvec)\n",
    "def WK1(uvec,rvec):\n",
    "    W = 1 +sum(uvec[0:2]*rvec)\n",
    "    return(W)\n",
    "def lambda_y_Space(rvec,uvec,K,ddstart,ddstop):\n",
    "    dd_vec = np.linspace(ddstart,ddstop,100)\n",
    "    deltasv = [[dD,0,0] for dD in dd_vec]\n",
    "    lambdas = [eval_y(uvec, rvec, W, K, D, deltas) for deltas in deltasv]\n",
    "    return(lambdas,dd_vec)\n",
    "\n",
    "\n",
    "def Change_from_perturb_D(uvec,xvec,yvec,rvec,D,K,pc,perturbX, perturbY, Deltas = [0,0,0]):\n",
    "    #iterates over a vector of delta_D values to find the change in equilibria values of u,x,y\n",
    "    \n",
    "    dDvec = np.linspace(0.01,0.1,10)\n",
    "    dDvec_final, dUvec = np.zeros(len(dDvec)), np.zeros(len(dDvec))\n",
    "    dXvec, dYvec = np.zeros(len(dDvec)), np.zeros(len(dDvec))   \n",
    "    for i in range(0,len(dDvec)):\n",
    "        dD = dDvec[i]\n",
    "        Deltas = [dD,0,0]\n",
    "        diffU, diffX, diffY, reached_eq = Change_in_equilibria(uvec,xvec,yvec,rvec,D,K,pc,\n",
    "                                                               Deltas,perturbX,perturbY)\n",
    "        if reached_eq == 1:\n",
    "            dDvec_final[i],dUvec[i], dXvec[i], dYvec[i] = dD,diffU, diffX, diffY\n",
    "    finalLen = sum(dDvec_final>0)\n",
    "    dDvec, dUvec, dXvec, dYvec = dDvec_final[0:finalLen], dUvec[0:finalLen], dXvec[0:finalLen], dYvec[0:finalLen]\n",
    "    return(dDvec,dUvec,dXvec,dYvec)\n"
   ]
  },
  {
   "cell_type": "code",
   "execution_count": 31,
   "metadata": {},
   "outputs": [
    {
     "data": {
      "text/plain": [
       "Text(0.5, 0, '$\\\\delta_D$')"
      ]
     },
     "execution_count": 31,
     "metadata": {},
     "output_type": "execute_result"
    },
    {
     "data": {
      "image/png": "[encoded data removed]",
      "text/plain": [
       "<Figure size 432x288 with 1 Axes>"
      ]
     },
     "metadata": {
      "needs_background": "light"
     },
     "output_type": "display_data"
    }
   ],
   "source": [
    "\n",
    "#K = 1, D = 0 Case\n",
    "K = 1\n",
    "D = 0\n",
    "pc = 0\n",
    "beta = gamma = 1\n",
    "xvec = yvec = [0,0,0]\n",
    "perturbX = 0\n",
    "perturbY = 0.01\n",
    "\n",
    "\n",
    "\n",
    "# \\\\TO-DO: LOOK AT FINAL PERTURBATION OF X AND Y\n",
    "#equilibrium 1\n",
    "uvec1 = np.array([0,0,1])\n",
    "rvec1 = req(uvec1,beta,gamma)\n",
    "W1 = WK1(uvec1,rvec1)\n",
    "#lambday = 1\n",
    "J_UR = Jac_UR(uvec1, rvec1, K, D, W1)\n",
    "LA.eigvals(J_UR)\n",
    "dDvec,dUvec,dXvec,dYvec = Change_from_perturb_D(uvec1,xvec,yvec,rvec1,D,K,pc,perturbX, perturbY)\n",
    "#plt.plot(dDvec,dXvec)\n",
    "\n",
    "#equilibrium 2\n",
    "uvec2 = np.array([0,1,0])\n",
    "rvec2 = req(uvec2)\n",
    "W = WK1(uvec2,rvec2)\n",
    "#uvec,xvec,yvec,rvec,W,t,reached_eq = NewEq_Perturb(uvec2,xvec,yvec,rvec1,D,K,pc,[0.05,0,0],perturbX,perturbY)\n",
    "dDvec,dUvec,dXvec,dYvec = Change_from_perturb_D(uvec2,xvec,yvec,rvec2,D,K,pc,perturbX, perturbY)\n",
    "plt.plot(dDvec,dXvec)\n",
    "\n",
    "#equilibrium 3\n",
    "uvec3 = np.array([0.5,0.5,0])\n",
    "rvec3 = req(uvec3)\n",
    "xvec = yvec = np.array([0,0,0])\n",
    "dD = 1\n",
    "Deltas = [dD,0,0]\n",
    "#uvec,xvec,yvec,rvec,W,t,reached_eq = NewEq_Perturb(uvec3,xvec,yvec,rvec3,D,K,pc,Deltas,perturbX,0.05)\n",
    "dDvec,dUvec,dXvec,dYvec = Change_from_perturb_D(uvec3,xvec,yvec,rvec3,D,K,pc,perturbX, perturbY)\n",
    "plt.plot(dDvec,dXvec)\n",
    "\n",
    "#equilibrium 4\n",
    "uvec4 = np.array([1,0,0])\n",
    "rvec4 = req(uvec4)\n",
    "W = WK1(uvec4,rvec4)\n",
    "#uvec,xvec,yvec,rvec,W,t,reached_eq = NewEq_Perturb(uvec4,xvec,yvec,rvec4,D,K,pc,Deltas,perturbX,0.05)\n",
    "dDvec,dUvec,dXvec,dYvec = Change_from_perturb_D(uvec3,xvec,yvec,rvec3,D,K,pc,perturbX, perturbY)\n",
    "plt.plot(dDvec,dUvec)\n",
    "plt.ylabel('Change in equilibria')\n",
    "plt.xlabel('$\\delta_D$')\n",
    "\n",
    "\n"
   ]
  },
  {
   "cell_type": "markdown",
   "metadata": {},
   "source": [
    "Green is $\\Delta \\hat{u}$, and orange is $\\Delta \\hat{x}$."
   ]
  },
  {
   "cell_type": "markdown",
   "metadata": {},
   "source": [
    "# D = 0, Varying K\n",
    "\n",
    "First, we examine the fitness spaces of $x$ and $y$."
   ]
  },
  {
   "cell_type": "markdown",
   "metadata": {},
   "source": [
    "Focus first on $C_d$. The expression for $C_d$ is derived from $X_1 + X_2 + \\bar{X}$."
   ]
  },
  {
   "cell_type": "code",
   "execution_count": 246,
   "metadata": {},
   "outputs": [
    {
     "data": {
      "image/png": "[encoded data removed]",
      "text/latex": [
       "$\\displaystyle - f(-d) u_{1}^{2} + f(-d) u_{1} - f(-d) u_{2}^{2} + f(-d) u_{2} - f(d) u_{1}^{2} + 2 f(d) u_{1} - f(d) u_{2}^{2} + 2 f(d) u_{2} - 3 f(d)$"
      ],
      "text/plain": [
       "          2                      2                     2                      \n",
       "- f(-d)⋅u₁  + f(-d)⋅u₁ - f(-d)⋅u₂  + f(-d)⋅u₂ - f(d)⋅u₁  + 2⋅f(d)⋅u₁ - f(d)⋅u₂\n",
       "\n",
       "2                     \n",
       "  + 2⋅f(d)⋅u₂ - 3⋅f(d)"
      ]
     },
     "metadata": {},
     "output_type": "display_data"
    }
   ],
   "source": [
    "u1,u2, K, p, dk, dp, fd, fmd, d, deld = sp.symbols('u_1,u_2,K, p, \\delta_K, \\delta_{\\pi_C}, f(d), f(-d), d, \\delta_d', real = True)\n",
    "init_printing()\n",
    "phi = p*(1 - p)*(2*p -1)\n",
    "r1 = 1 - u1\n",
    "r2 = 1 - u2\n",
    "dk = deld*fd + deld*fmd# approximations for delta_d small enough\n",
    "dp = -deld*fd\n",
    "X1 = (1 + r1)*(dk*u1 + dp)\n",
    "X2 = (1 + r2)*(dk*u2 + dp)\n",
    "bX = -(dk*(u1 + u2) +dp)\n",
    "Cd = expand(simplify((X1 + X2 + bX)/deld))\n",
    "display(Cd)"
   ]
  },
  {
   "cell_type": "markdown",
   "metadata": {},
   "source": [
    "For $\\delta_d$ small, we have\n",
    "$$\n",
    "C_d = \\delta_d \\left[ f(-d)(u_1 - u_1^2 + u_2 - u_2^2) + f(d) (2u_1 - u_1^2 + 2u_2 - u_2^2 -3)\\right] \n",
    "$$\n",
    "$$\n",
    "\\leq \\delta_d \\left[ f(-d)(1/2) + f(d)(-1.5)\\right]\n",
    "$$\n",
    "because $u_1 - u_1^2 +u_2 - u_2^2 \\leq 1/2$ (with a maximum when $u_i =u_j= 1/2$) and $2u_1 - u_1^2 +2u_2 - u_2^2 \\leq 3/2$ (with a maximum at $u_1 = u_2 = 1/2$). Thus we know for sure that $C_d < 0$ when $f(-d) < 4f(d), for $\\delta_d$ small. Thus for $\\mu$ close to zero or positive, increased social learning is less likely to invade.\n",
    "\n"
   ]
  },
  {
   "cell_type": "code",
   "execution_count": 39,
   "metadata": {},
   "outputs": [],
   "source": [
    "# K anything, D = 0\n",
    "# want to look at how K affects equilibria\n",
    "def lambda_x_varydeltad(uvec,rvec,W,K,D,pc,d, norm):\n",
    "    deltad_vec = np.linspace(0,1,100)\n",
    "    deltas_vec = [[0,Kfun(d+dd,norm)-K, pcfun(d+dd,norm) - pc] for dd in deltad_vec]\n",
    "    lx_vec = [eval_x(uvec, rvec, W, D, deltas) for deltas in deltas_vec]\n",
    "    return(lx_vec)\n",
    "\n",
    "def lambda_y_varydD(uvec,rvec,W,K,D):\n",
    "    deltaD_vec = np.linspace(-1+D,1-D,100)\n",
    "    deltas_vec = [[dD,0, 0] for dD in deltaD_vec]\n",
    "    ly_vec = [eval_y(uvec, rvec, W, K, D, deltas) for deltas in deltas_vec]\n",
    "    return(ly_vec)\n",
    "\n",
    "\n",
    "def getEqMat_varyd(norm, dvec,D,uvec,rvec, xvec = [0,0,0],yvec = [0,0,0]):\n",
    "    tsteps = 10000\n",
    "    n = len(dvec)\n",
    "    Kvec = np.array([Kfun(d,norm) for d in dvec])\n",
    "    pcvec = np.array([pcfun(d,norm) for d in dvec])\n",
    "    Gen1Mat = np.array([NextGen(uvec,xvec,yvec,rvec, D, Kvec[i],pcvec[i]) for i in range(0,n)])\n",
    "    eqMat = [FindEquilibrium(Gen1Mat[i,0],Gen1Mat[i,1],Gen1Mat[i,2],Gen1Mat[i,3],\n",
    "                             Gen1Mat[i,4],Kvec[i],pcvec[i],D,tsteps) for i in range(0,n)]\n",
    "        # note each\"row\" is uvec,xvec,yvec,rvec,W,t,reached_eq\n",
    "    uvecs_hat =np.array([eqMat[i][0] for i in range(0,n)])\n",
    "    rvecs_hat =np.array([eqMat[i][3] for i in range(0,n)])\n",
    "    Wvec_hat =np.array([eqMat[i][4] for i in range(0,n)])\n",
    "    return(Kvec,pcvec,Wvec_hat,uvecs_hat,rvecs_hat)\n",
    "def Cd_d_deld(uvecs,norm,D,dvec, Kvec, pcvec,deld_vec):\n",
    "    #Cd, where lambda_x = 1 + Cd/What\n",
    "    #returns mat of Cd values corresponding to vector of d and delta_d values\n",
    "    num_eqs = len(uvecs)\n",
    "    u1vec = uvecs[:,0]\n",
    "    u2vec = uvecs[:,1]\n",
    "    #rows correspond to deld value\n",
    "    # columns are d values\n",
    "    dpc_mat = np.array([[pcfun(d+deld,norm) for d in dvec] - pcvec for deld in deld_vec])\n",
    "    \n",
    "    dK_mat = np.array([[Kfun(d + deld,norm)for d in dvec] -Kvec for deld in deld_vec])\n",
    "    m = len(deld_vec)\n",
    "    CD_mat = np.zeros((m,n))\n",
    "    for i in range(0,m): # go over rows\n",
    "        X1 = (2-u1vec)*(dK_mat[i,:]*(u1vec + D*phi_fun(u1vec)) + dpc_mat[i,:])\n",
    "        X2 = (2-u2vec)*(dK_mat[i,:]*(u2vec + D*phi_fun(u2vec)) + dpc_mat[i,:])\n",
    "        bX = -(dK_mat[i,:]*(u1vec+u2vec + D*phi_fun(u1vec + u2vec)) + dpc_mat[i,:])\n",
    "        X = X1 + X2 + bX\n",
    "        CD_mat[i,:] = X\n",
    "    return(CD_mat)\n",
    "\n",
    "def plotInvasionRegion(Xvec, Yvec, F, xlab, ylab, title ):\n",
    "    fig = plt.figure(figsize=(8, 8))\n",
    "    X,Y = np.meshgrid(Xvec, Yvec)\n",
    "    cs = plt.contourf(X,Y,F,[-1000,0,1000], colors = ('blue', 'yellow')) # blue is negative, yellow is positive\n",
    "    plt.colorbar(cs)\n",
    "    plt.xlabel(xlab,fontsize = 20)\n",
    "    plt.ylabel(ylab, fontsize = 20)\n",
    "    plt.title(title, fontsize = 20)\n",
    "\n",
    "\n",
    "#lx_mat = [lambda_x_varydeltad(uvecs_hat[i], rvecs_hat[i], Wvec_hat[i], D, Kvec[i], \n",
    "                              #pcvec[i],dvec[i],norm for i in range(0,n)]\n",
    "#ly_mat = [lambda_y_varydD(uvecs_hat[i], rvecs_hat[i], Wvec_hat[i], Kvec[i], D) for i in range(0,n)]\n",
    "\n",
    "#for plotting\n",
    "\n"
   ]
  },
  {
   "cell_type": "code",
   "execution_count": 40,
   "metadata": {},
   "outputs": [
    {
     "data": {
      "image/png": "[encoded data removed]",
      "text/plain": [
       "<Figure size 576x576 with 2 Axes>"
      ]
     },
     "metadata": {
      "needs_background": "light"
     },
     "output_type": "display_data"
    }
   ],
   "source": [
    "mu = 0.2; sigma = 1;\n",
    "norm = scs.norm(mu,sigma**2) \n",
    "dvec = np.arange(0,2,0.01) # horizontal\n",
    "deld_vec = np.arange(0,1,0.01) #vertical\n",
    "D = 0\n",
    "uvec = [0,0,1]\n",
    "rvec = [1,1]\n",
    "xvec = yvec = [0,0,0]\n",
    "n = len(dvec)\n",
    "Kvec,pcvec,Wvec_hat,uvecs,rvecs = getEqMat_varyd(norm, dvec,D,uvec,rvec, xvec ,yvec )\n",
    "CD_mat = Cd_d_deld(uvecs,norm,D,dvec, Kvec, pcvec,deld_vec)\n",
    "plotInvasionRegion(dvec, deld_vec, CD_mat, '$d$', '$\\delta_d$', 'Sign of $C_d$, dependent on $\\delta_d$ and $d$')"
   ]
  },
  {
   "cell_type": "code",
   "execution_count": null,
   "metadata": {},
   "outputs": [],
   "source": []
  },
  {
   "cell_type": "markdown",
   "metadata": {},
   "source": [
    "# Now consider $\\lambda_y$\n",
    "\n",
    "We have $C_D = K \\delta_D \\left(2 \\hat{u_1}^{4} - 5 \\hat{u_1}^{3} + 6 \\hat{u_1}^{2} \\hat{u_2} + 4 \\hat{u_1}^{2} + 6 \\hat{u_1} \\hat{u_2}^{2} - 6 \\hat{u_1} \\hat{u_2} - \\hat{u_1} + 2 \\hat{u_2}^{4} - 5 \\hat{u_2}^{3} + 4 \\hat{u_2}^{2} - \\hat{u_2}\\right)$. Thus only the sign of $\\delta_D$ affects whether mutant $Ab$ invades. \n",
    "\n",
    "To further analytically analyze this, we need an idea of what $\\hat{u_1}$ and $\\hat{u_2}$ are. Set initial values to $\\hat{u_1} = \\hat{u_2} = (0,0)$, indicating that initially the population is naive.\n"
   ]
  },
  {
   "cell_type": "code",
   "execution_count": 335,
   "metadata": {},
   "outputs": [
    {
     "data": {
      "text/plain": [
       "Text(0.5, 1.0, '$\\\\hat{u_1} = \\\\hat{u_2}$ for all $d > 0$ when $D=0$')"
      ]
     },
     "execution_count": 335,
     "metadata": {},
     "output_type": "execute_result"
    },
    {
     "data": {
      "image/png": "[encoded data removed]",
      "text/plain": [
       "<Figure size 432x288 with 1 Axes>"
      ]
     },
     "metadata": {
      "needs_background": "light"
     },
     "output_type": "display_data"
    }
   ],
   "source": [
    "dvec = np.arange(0,5,0.05)\n",
    "Kvec,pcvec,Wvec_hat,uvecs,rvecs = getEqMat_varyd(norm, dvec,D,uvec,rvec, xvec ,yvec )\n",
    "u1vec = uvecs[:,0]\n",
    "u2vec = uvecs[:,1]\n",
    "plt.plot(dvec, u1vec - u2vec, 'red')\n",
    "plt.xlabel('d',fontsize = 20)\n",
    "plt.ylabel('$\\hat{u_1} - \\hat{u_2}$',fontsize = 20)\n",
    "plt.title('$\\hat{u_1} = \\hat{u_2}$ for all $d > 0$ when $D=0$', fontsize = 14)"
   ]
  },
  {
   "cell_type": "markdown",
   "metadata": {},
   "source": [
    "Numerically, we observe that $\\hat{u_1} = \\hat{u_2}$ for all $d > 0$ when $D = 0$. Then,\n",
    "$$\n",
    "C_D = 2 K \\delta_D \\hat{u_1} \\left(2 \\hat{u_1}^{3} + \\hat{u_1}^{2} + \\hat{u_1} - 1 \\right)\n",
    "$$\n",
    "which is nonnegative when $2 \\hat{u_1}^{3} + \\hat{u_1}^{2} + \\hat{u_1} - 1 \\geq 0$\n",
    "Since $\\hat{u_1} = \\hat{u_2}$, $\\hat{u_1} \\leq 1/2$. From the plot below, we see that in this range, $C_D < 0$ for $0 < \\hat{u_1}, \\hat{u_2} < 1/2$, and $Ab$ only invades when $\\hat{u_1}, \\hat{u_2} = 0$ or $\\hat{u_1}, \\hat{u_2} = 1/2$."
   ]
  },
  {
   "cell_type": "code",
   "execution_count": 42,
   "metadata": {},
   "outputs": [
    {
     "data": {
      "image/png": "[encoded data removed]",
      "text/plain": [
       "<Figure size 432x288 with 1 Axes>"
      ]
     },
     "metadata": {
      "needs_background": "light"
     },
     "output_type": "display_data"
    },
    {
     "data": {
      "text/plain": [
       "<sympy.plotting.plot.Plot at 0x1220b4ad0>"
      ]
     },
     "execution_count": 42,
     "metadata": {},
     "output_type": "execute_result"
    }
   ],
   "source": [
    "u1,u2, K, delD, p = sp.symbols('\\hat{u_1},\\hat{u_2},K, \\delta_D, p', real = True)\n",
    "phi = p*(1 - p)*(2*p -1)\n",
    "r1 = 1 - u1\n",
    "r2 = 1 - u2\n",
    "Y1 = (1 + r1)*(K*delD*phi.subs([(p,u1)]))\n",
    "Y2 = (1 + r2)*(K*delD*phi.subs([(p,u2)]))\n",
    "bY = -K*delD*phi.subs([(p,u1+u2)])\n",
    "Y = Y1 + Y2 + bY\n",
    "\n",
    "CD = simplify(expand(Y))\n",
    "#print(latex(CD))\n",
    "CDp = simplify(CD/(K*delD))\n",
    "#simplify(CDp - (u1+u2)**2)\n",
    "#cdp = (6*u1*u2)*(u1+u2-1)+ 2*(-4*(u1**3)*u2 -6*(u1**2)*u2**2 -4*u1*u2**3) -5*(-3*(u1**2)*u2 -3*u1*u2**2) +4*(-2*u1*u2)\n",
    "#simplify(cdp)\n",
    "\n",
    "#p = plot_implicit(CDp>=0, (u1,0,1),(u2,0,1),xvar = u1, yvar = u2)\n",
    "#print(CDp)\n",
    "\n",
    "CD_same = simplify(expand(Y.subs([(u2,u1)]) ))\n",
    "to_plot = simplify(CD_same/(2*K*delD))\n",
    "#print(latex(CD_same ))\n",
    "plot(to_plot, xlim = [0,0.5], ylim = [-0.5,0.5], ylabel = '$f(u_1)$', xlabel = '$\\h', title = '$2u_1^3 + u_1^2 + u_1 -1$')\n",
    "#solve(to_plot,u1)\n"
   ]
  },
  {
   "cell_type": "markdown",
   "metadata": {},
   "source": [
    "Now what happens when the system is perturbed while at the equilibrium values $\\hat{u_1} = \\hat{u_2} = 0 \\text{ or } 1/2$."
   ]
  },
  {
   "cell_type": "markdown",
   "metadata": {},
   "source": [
    "# $C_D$ For any K, D values, and for any $\\hat{u_1}, \\hat{u_2}$ values:\n",
    "$C_d$ is harder to analyze for such a general situation"
   ]
  },
  {
   "cell_type": "code",
   "execution_count": 43,
   "metadata": {
    "scrolled": true
   },
   "outputs": [
    {
     "data": {
      "image/png": "[encoded data removed]",
      "text/plain": [
       "<Figure size 576x576 with 2 Axes>"
      ]
     },
     "metadata": {
      "needs_background": "light"
     },
     "output_type": "display_data"
    }
   ],
   "source": [
    "def cD(u1,u2):\n",
    "    result = 2*u1**4 - 5*u1**3 + 6*u1**2*u2 + 4*u1**2 + 6*u1*u2**2 - 6*u1*u2 - u1 + 2*u2**4 - 5*u2**3 + 4*u2**2 - u2\n",
    "    return(result)\n",
    "    \n",
    "delta = 0.01\n",
    "u1 = u2 = np.arange(0,1,delta)\n",
    "U1,U2 = np.meshgrid(u1,u2)\n",
    "CD = cD(U1,U2)\n",
    "plotInvasionRegion(u1, u2, CD, '$u_1$', '$u_2$', 'Sign of $C_D$ in relation to equilibrium values' )"
   ]
  },
  {
   "cell_type": "markdown",
   "metadata": {},
   "source": [
    "# K = 1, Varying D\n",
    "$$\n",
    "C_D = \\delta_D \\left(2 \\hat{u_1}^{4} - 5 \\hat{u_1}^{3} + 6 \\hat{u_1}^{2} \\hat{u_2} + 4 \\hat{u_1}^{2} + 6 \\hat{u_1} \\hat{u_2}^{2} - 6 \\hat{u_1} \\hat{u_2} - \\hat{u_1} + 2 \\hat{u_2}^{4} - 5 \\hat{u_2}^{3} + 4 \\hat{u_2}^{2} - \\hat{u_2}\\right)\n",
    "$$\n",
    "Note: $\\vec{u} = (0,0,1), \\vec{r} = (1,1)$ is an equilibrium, so we cannot use that as a starting point to find other equilibria.\n",
    "\n"
   ]
  },
  {
   "cell_type": "markdown",
   "metadata": {},
   "source": [
    "What are the equilibria?"
   ]
  },
  {
   "cell_type": "code",
   "execution_count": 35,
   "metadata": {},
   "outputs": [],
   "source": [
    "Dvec = np.arange(0,1,0.01)\n",
    "d = 10000000\n",
    "def getEqMat_varyD(norm, d,Dvec,uvec,rvec, xvec = [0,0,0],yvec = [0,0,0]):\n",
    "    tsteps = 10000\n",
    "    n = len(Dvec)\n",
    "    K = Kfun(d,norm)\n",
    "    pc = pcfun(d,norm)\n",
    "    Gen1Mat = np.array([NextGen(uvec,xvec,yvec,rvec, Dvec[i], K, pc) for i in range(0,n)])\n",
    "    eqMat = [FindEquilibrium(Gen1Mat[i,0],Gen1Mat[i,1],Gen1Mat[i,2],Gen1Mat[i,3],\n",
    "                             Gen1Mat[i,4],K,pc,Dvec[i],tsteps) for i in range(0,n)]\n",
    "        # note each\"row\" is uvec,xvec,yvec,rvec,W,t,reached_eq\n",
    "    uvecs_hat =np.array([eqMat[i][0] for i in range(0,n)])\n",
    "    rvecs_hat =np.array([eqMat[i][3] for i in range(0,n)])\n",
    "    Wvec_hat =np.array([eqMat[i][4] for i in range(0,n)])\n",
    "    return(Kvec,pcvec,Wvec_hat,uvecs_hat,rvecs_hat)"
   ]
  },
  {
   "cell_type": "code",
   "execution_count": 37,
   "metadata": {},
   "outputs": [],
   "source": [
    "def lambda_y_varydD(uvec,rvec,W,K,D):\n",
    "    deltaD_vec = np.linspace(0,1-D,100)\n",
    "    deltas_vec = [[dD,0, 0] for dD in deltaD_vec]\n",
    "    ly_vec = [eval_y(uvec, rvec, W, K, D, deltas) for deltas in deltas_vec]\n",
    "    return(ly_vec)\n",
    "\n",
    "mu = 0.2; sigma = 1;\n",
    "norm = scs.norm(mu,sigma**2)\n",
    "Dvec = np.linspace(-1,1,100)\n",
    "K = 1; pc = 0\n",
    "\n",
    "uvec = [0,0,1]\n",
    "rvec = [1,1]\n",
    "xvec = yvec = [0,0,0]\n",
    "\n",
    "#Gen1Mat = [NextGen(uvec,xvec,yvec,rvec, Dvec[i], K,pc) for i in range(0,100)]\n",
    "#tsteps = 1000\n",
    "#eqMat = [FindEquilibrium(Gen1Mat[i][0],Gen1Mat[i][1],Gen1Mat[i][2],Gen1Mat[i][3],Gen1Mat[i][4],K,pc,Dvec[i],tsteps) for i in range(0,100)]\n",
    "#uvecs_hat =[eqMat[i][0] for i in range(0,100)]\n",
    "#rvecs_hat =[eqMat[i][3] for i in range(0,100)]\n",
    "#Wvec_hat =[eqMat[i][4] for i in range(0,100)]\n",
    "#lx_mat = [lambda_x_varydeltad(uvecs_hat[i], rvecs_hat[i], Wvec_hat[i], D, Kvec[i], pcvec[i],dvec[i],norm) for i in range(0,100)]\n",
    "ly_mat = [lambda_y_varydD([0,0,1], [1,1], 1, K, Dvec[i]) for i in range(0,100)]\n"
   ]
  },
  {
   "cell_type": "code",
   "execution_count": null,
   "metadata": {},
   "outputs": [],
   "source": []
  },
  {
   "cell_type": "code",
   "execution_count": 8,
   "metadata": {},
   "outputs": [],
   "source": [
    "uvec = [0.2,0.2,0.6]\n",
    "rvec = [1,1]\n",
    "xvec = yvec = [0,0,0]\n",
    "\n",
    "Gen1Mat = [NextGen(uvec,xvec,yvec,rvec, Dvec[i], K,pc) for i in range(0,100)]\n",
    "tsteps = 1000\n",
    "eqMat = [FindEquilibrium(Gen1Mat[i][0],Gen1Mat[i][1],Gen1Mat[i][2],Gen1Mat[i][3],Gen1Mat[i][4],K,pc,Dvec[i],tsteps) for i in range(0,100)]\n",
    "uvecs_hat =[eqMat[i][0] for i in range(0,100)]\n",
    "rvecs_hat =[eqMat[i][3] for i in range(0,100)]\n",
    "Wvec_hat =[eqMat[i][4] for i in range(0,100)]\n",
    "#lx_mat = [lambda_x_varydeltad(uvecs_hat[i], rvecs_hat[i], Wvec_hat[i], D, Kvec[i], pcvec[i],dvec[i],norm) for i in range(0,100)]\n",
    "ly_mat = [lambda_y_varydD(uvecs_hat[i], rvecs_hat[i], Wvec_hat[i], K, Dvec[i]) for i in range(0,100)]\n"
   ]
  },
  {
   "cell_type": "code",
   "execution_count": 9,
   "metadata": {},
   "outputs": [
    {
     "data": {
      "image/png": "[encoded data removed]",
      "text/plain": [
       "<Figure size 432x288 with 1 Axes>"
      ]
     },
     "metadata": {
      "needs_background": "light"
     },
     "output_type": "display_data"
    }
   ],
   "source": [
    "uvecs_hat = np.array(uvecs_hat)\n",
    "plt.plot(Dvec,uvecs_hat[:,0])\n",
    "plt.xlabel(\"$D$\", fontsize=20)\n",
    "plt.ylabel(\"$\\hat{u_1}=\\hat{u_2}$\", fontsize=20)\n",
    "fnj = '/Users/taliaborofsky/Documents/Stanford/Research/Feldman/Conformism/Equ1_K1VaryD_020206.jpg'\n",
    "plt.savefig(fnj, dpi=150)"
   ]
  },
  {
   "cell_type": "markdown",
   "metadata": {},
   "source": [
    "The above figure shows equilibria values of $\\hat{u_1}, \\hat{u_2}$ for different values of $D$ when initially $\\vec{u} = (0.2,0.2,0.6)$ and $\\vec{r} = (1,1)$."
   ]
  },
  {
   "cell_type": "code",
   "execution_count": 11,
   "metadata": {},
   "outputs": [],
   "source": [
    "uvec = [0.2,0,0.8]\n",
    "rvec = [1,1]\n",
    "xvec = yvec = [0,0,0]\n",
    "K = 1; pc = 0\n",
    "Dvec = np.linspace(0,1,100)\n",
    "\n",
    "Gen1Mat = [NextGen(uvec,xvec,yvec,rvec, Dvec[i], K,pc) for i in range(0,100)]\n",
    "tsteps = 1000\n",
    "eqMat = [FindEquilibrium(Gen1Mat[i][0],Gen1Mat[i][1],Gen1Mat[i][2],Gen1Mat[i][3],Gen1Mat[i][4],K,pc,Dvec[i],tsteps) for i in range(0,100)]\n",
    "uvecs_hat =[eqMat[i][0] for i in range(0,100)]\n",
    "rvecs_hat =[eqMat[i][3] for i in range(0,100)]\n",
    "Wvec_hat =[eqMat[i][4] for i in range(0,100)]\n",
    "#lx_mat = [lambda_x_varydeltad(uvecs_hat[i], rvecs_hat[i], Wvec_hat[i], D, Kvec[i], pcvec[i],dvec[i],norm) for i in range(0,100)]\n",
    "ly_mat = [lambda_y_varydD(uvecs_hat[i], rvecs_hat[i], Wvec_hat[i], K, Dvec[i]) for i in range(0,100)]\n"
   ]
  },
  {
   "cell_type": "code",
   "execution_count": 12,
   "metadata": {},
   "outputs": [
    {
     "data": {
      "image/png": "[encoded data removed]",
      "text/plain": [
       "<Figure size 432x288 with 1 Axes>"
      ]
     },
     "metadata": {
      "needs_background": "light"
     },
     "output_type": "display_data"
    }
   ],
   "source": [
    "uvecs_hat = np.array(uvecs_hat)\n",
    "plt.plot(Dvec,uvecs_hat[:,0])\n",
    "plt.xlabel(\"$D$\", fontsize=20)\n",
    "plt.ylabel(\"$\\hat{u_1}$\", fontsize=20)\n",
    "fnj = '/Users/taliaborofsky/Documents/Stanford/Research/Feldman/Conformism/Equ1_K1VaryD_020008.jpg'"
   ]
  },
  {
   "cell_type": "markdown",
   "metadata": {},
   "source": [
    "The above figure shows equilibria values of $\\hat{u_1}$ for different values of $D$ when initially $\\vec{u} = (0.2,0,0.8)$ and $\\vec{r} = (1,1)$."
   ]
  },
  {
   "cell_type": "code",
   "execution_count": 14,
   "metadata": {},
   "outputs": [
    {
     "data": {
      "image/png": "[encoded data removed]",
      "text/plain": [
       "<Figure size 432x288 with 1 Axes>"
      ]
     },
     "metadata": {
      "needs_background": "light"
     },
     "output_type": "display_data"
    }
   ],
   "source": [
    "plt.savefig(fnj, dpi=150)\n",
    "plt.plot(Dvec,uvecs_hat[:,1])\n",
    "plt.xlabel(\"$D$\", fontsize=20)\n",
    "plt.ylabel(\"$\\hat{u_2}$\", fontsize=20)\n",
    "fnj = '/Users/taliaborofsky/Documents/Stanford/Research/Feldman/Conformism/Equ2_K1VaryD_020008.jpg'\n",
    "plt.savefig(fnj, dpi=150)"
   ]
  },
  {
   "cell_type": "markdown",
   "metadata": {},
   "source": [
    "# Solve for the equilibria"
   ]
  },
  {
   "cell_type": "code",
   "execution_count": 23,
   "metadata": {},
   "outputs": [],
   "source": [
    "def alpha(D):\n",
    "    alpha = 152*D**4 + 63*D**3 + 3*np.sqrt(3)*D*np.sqrt(D**3*(1759*D**3 - 1270*D**2 +263*D -8))\n",
    "    return(alpha)\n",
    "def u1u2eq(D):\n",
    "    num = -(-29*D**4 + 6*D**3 + (D**(4/3))*(alpha(D))**(2/3) + (D**(8/3))*np.cbrt(alpha(D)))\n",
    "    denom = 6*(D**(8/3))*np.cbrt(alpha(D))\n",
    "    return(num/denom)"
   ]
  },
  {
   "cell_type": "code",
   "execution_count": 46,
   "metadata": {},
   "outputs": [
    {
     "name": "stderr",
     "output_type": "stream",
     "text": [
      "/usr/local/Cellar/ipython/7.3.0/libexec/vendor/lib/python3.7/site-packages/ipykernel_launcher.py:5: RuntimeWarning: invalid value encountered in double_scalars\n",
      "  \"\"\"\n",
      "/usr/local/Cellar/ipython/7.3.0/libexec/vendor/lib/python3.7/site-packages/ipykernel_launcher.py:6: RuntimeWarning: invalid value encountered in double_scalars\n",
      "  \n",
      "/usr/local/Cellar/ipython/7.3.0/libexec/vendor/lib/python3.7/site-packages/ipykernel_launcher.py:2: RuntimeWarning: invalid value encountered in sqrt\n",
      "  \n"
     ]
    },
    {
     "data": {
      "text/plain": [
       "[<matplotlib.lines.Line2D at 0x1272fc240>]"
      ]
     },
     "execution_count": 46,
     "metadata": {},
     "output_type": "execute_result"
    },
    {
     "data": {
      "image/png": "[encoded data removed]",
      "text/plain": [
       "<Figure size 432x288 with 1 Axes>"
      ]
     },
     "metadata": {
      "needs_background": "light"
     },
     "output_type": "display_data"
    }
   ],
   "source": [
    "\n",
    "DV = np.linspace(-1,1,100)\n",
    "u1u2vec = [u1u2eq(D) for D in DV]\n",
    "plt.plot(DV,u1u2vec)"
   ]
  },
  {
   "cell_type": "markdown",
   "metadata": {},
   "source": [
    "Thus the last real option for an equilibrium when $\\hat{u_1} = \\hat{u_2}$ is not valid"
   ]
  },
  {
   "cell_type": "code",
   "execution_count": null,
   "metadata": {},
   "outputs": [],
   "source": []
  },
  {
   "cell_type": "code",
   "execution_count": 1,
   "metadata": {},
   "outputs": [],
   "source": [
    "import sys\n",
    "sys.path.append('/usr/local/lib/python3.7/site-packages')"
   ]
  }
 ],
 "metadata": {
  "kernelspec": {
   "display_name": "Python 3",
   "language": "python",
   "name": "python3"
  },
  "language_info": {
   "codemirror_mode": {
    "name": "ipython",
    "version": 3
   },
   "file_extension": ".py",
   "mimetype": "text/x-python",
   "name": "python",
   "nbconvert_exporter": "python",
   "pygments_lexer": "ipython3",
   "version": "3.7.6"
  },
  "widgets": {
   "application/vnd.jupyter.widget-state+json": {
    "state": {},
    "version_major": 2,
    "version_minor": 0
   }
  }
 },
 "nbformat": 4,
 "nbformat_minor": 4
}
